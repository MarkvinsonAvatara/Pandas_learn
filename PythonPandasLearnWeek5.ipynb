{
 "cells": [
  {
   "cell_type": "markdown",
   "metadata": {},
   "source": [
    "# Pandas Week 5"
   ]
  },
  {
   "cell_type": "markdown",
   "metadata": {},
   "source": [
    "# 17. Resampling pada  time series data"
   ]
  },
  {
   "cell_type": "code",
   "execution_count": 1,
   "metadata": {},
   "outputs": [
    {
     "name": "stdout",
     "output_type": "stream",
     "text": [
      "1.1.3\n",
      "1.1.3\n"
     ]
    }
   ],
   "source": [
    "#import modules\n",
    "import pandas as pd\n",
    "import numpy as np \n",
    "\n",
    "#check Version\n",
    "print(pd.__version__)\n",
    "print(pd.__version__)"
   ]
  },
  {
   "cell_type": "code",
   "execution_count": 2,
   "metadata": {},
   "outputs": [
    {
     "name": "stderr",
     "output_type": "stream",
     "text": [
      "C:\\Users\\Markvinson\\anaconda3\\lib\\site-packages\\pandas\\util\\__init__.py:12: FutureWarning: pandas.util.testing is deprecated. Use the functions in the public API at pandas.testing instead.\n",
      "  import pandas.util.testing\n"
     ]
    },
    {
     "data": {
      "text/html": [
       "<div>\n",
       "<style scoped>\n",
       "    .dataframe tbody tr th:only-of-type {\n",
       "        vertical-align: middle;\n",
       "    }\n",
       "\n",
       "    .dataframe tbody tr th {\n",
       "        vertical-align: top;\n",
       "    }\n",
       "\n",
       "    .dataframe thead th {\n",
       "        text-align: right;\n",
       "    }\n",
       "</style>\n",
       "<table border=\"1\" class=\"dataframe\">\n",
       "  <thead>\n",
       "    <tr style=\"text-align: right;\">\n",
       "      <th></th>\n",
       "      <th>col1</th>\n",
       "      <th>col2</th>\n",
       "    </tr>\n",
       "  </thead>\n",
       "  <tbody>\n",
       "    <tr>\n",
       "      <th>2000-01-01 00:00:00</th>\n",
       "      <td>4</td>\n",
       "      <td>16</td>\n",
       "    </tr>\n",
       "    <tr>\n",
       "      <th>2000-01-01 01:00:00</th>\n",
       "      <td>5</td>\n",
       "      <td>6</td>\n",
       "    </tr>\n",
       "    <tr>\n",
       "      <th>2000-01-01 02:00:00</th>\n",
       "      <td>4</td>\n",
       "      <td>5</td>\n",
       "    </tr>\n",
       "    <tr>\n",
       "      <th>2000-01-01 03:00:00</th>\n",
       "      <td>1</td>\n",
       "      <td>4</td>\n",
       "    </tr>\n",
       "    <tr>\n",
       "      <th>2000-01-01 04:00:00</th>\n",
       "      <td>18</td>\n",
       "      <td>19</td>\n",
       "    </tr>\n",
       "    <tr>\n",
       "      <th>...</th>\n",
       "      <td>...</td>\n",
       "      <td>...</td>\n",
       "    </tr>\n",
       "    <tr>\n",
       "      <th>2000-12-30 19:00:00</th>\n",
       "      <td>9</td>\n",
       "      <td>11</td>\n",
       "    </tr>\n",
       "    <tr>\n",
       "      <th>2000-12-30 20:00:00</th>\n",
       "      <td>15</td>\n",
       "      <td>7</td>\n",
       "    </tr>\n",
       "    <tr>\n",
       "      <th>2000-12-30 21:00:00</th>\n",
       "      <td>16</td>\n",
       "      <td>10</td>\n",
       "    </tr>\n",
       "    <tr>\n",
       "      <th>2000-12-30 22:00:00</th>\n",
       "      <td>16</td>\n",
       "      <td>18</td>\n",
       "    </tr>\n",
       "    <tr>\n",
       "      <th>2000-12-30 23:00:00</th>\n",
       "      <td>2</td>\n",
       "      <td>19</td>\n",
       "    </tr>\n",
       "  </tbody>\n",
       "</table>\n",
       "<p>8760 rows × 2 columns</p>\n",
       "</div>"
      ],
      "text/plain": [
       "                     col1  col2\n",
       "2000-01-01 00:00:00     4    16\n",
       "2000-01-01 01:00:00     5     6\n",
       "2000-01-01 02:00:00     4     5\n",
       "2000-01-01 03:00:00     1     4\n",
       "2000-01-01 04:00:00    18    19\n",
       "...                   ...   ...\n",
       "2000-12-30 19:00:00     9    11\n",
       "2000-12-30 20:00:00    15     7\n",
       "2000-12-30 21:00:00    16    10\n",
       "2000-12-30 22:00:00    16    18\n",
       "2000-12-30 23:00:00     2    19\n",
       "\n",
       "[8760 rows x 2 columns]"
      ]
     },
     "execution_count": 2,
     "metadata": {},
     "output_type": "execute_result"
    }
   ],
   "source": [
    "#Data Frame Prep\n",
    "n_rows=365 *24\n",
    "n_cols=2\n",
    "cols=['col1','col2']\n",
    "\n",
    "df=pd.DataFrame(np.random.randint(1,20,size=(n_rows, n_cols)),\n",
    "               columns=cols)\n",
    "\n",
    "df.index=pd.util.testing.makeDateIndex(n_rows, freq='H')\n",
    "df"
   ]
  },
  {
   "cell_type": "markdown",
   "metadata": {},
   "source": [
    "# Resampling data dengan interval monthly atau Bulan"
   ]
  },
  {
   "cell_type": "code",
   "execution_count": 3,
   "metadata": {},
   "outputs": [
    {
     "data": {
      "text/html": [
       "<div>\n",
       "<style scoped>\n",
       "    .dataframe tbody tr th:only-of-type {\n",
       "        vertical-align: middle;\n",
       "    }\n",
       "\n",
       "    .dataframe tbody tr th {\n",
       "        vertical-align: top;\n",
       "    }\n",
       "\n",
       "    .dataframe thead th {\n",
       "        text-align: right;\n",
       "    }\n",
       "</style>\n",
       "<table border=\"1\" class=\"dataframe\">\n",
       "  <thead>\n",
       "    <tr style=\"text-align: right;\">\n",
       "      <th></th>\n",
       "      <th>col1</th>\n",
       "    </tr>\n",
       "  </thead>\n",
       "  <tbody>\n",
       "    <tr>\n",
       "      <th>2000-01-31</th>\n",
       "      <td>7298</td>\n",
       "    </tr>\n",
       "    <tr>\n",
       "      <th>2000-02-29</th>\n",
       "      <td>6734</td>\n",
       "    </tr>\n",
       "    <tr>\n",
       "      <th>2000-03-31</th>\n",
       "      <td>7243</td>\n",
       "    </tr>\n",
       "    <tr>\n",
       "      <th>2000-04-30</th>\n",
       "      <td>7416</td>\n",
       "    </tr>\n",
       "    <tr>\n",
       "      <th>2000-05-31</th>\n",
       "      <td>7458</td>\n",
       "    </tr>\n",
       "    <tr>\n",
       "      <th>2000-06-30</th>\n",
       "      <td>7250</td>\n",
       "    </tr>\n",
       "    <tr>\n",
       "      <th>2000-07-31</th>\n",
       "      <td>7240</td>\n",
       "    </tr>\n",
       "    <tr>\n",
       "      <th>2000-08-31</th>\n",
       "      <td>7646</td>\n",
       "    </tr>\n",
       "    <tr>\n",
       "      <th>2000-09-30</th>\n",
       "      <td>7244</td>\n",
       "    </tr>\n",
       "    <tr>\n",
       "      <th>2000-10-31</th>\n",
       "      <td>7495</td>\n",
       "    </tr>\n",
       "    <tr>\n",
       "      <th>2000-11-30</th>\n",
       "      <td>7221</td>\n",
       "    </tr>\n",
       "    <tr>\n",
       "      <th>2000-12-31</th>\n",
       "      <td>7101</td>\n",
       "    </tr>\n",
       "  </tbody>\n",
       "</table>\n",
       "</div>"
      ],
      "text/plain": [
       "            col1\n",
       "2000-01-31  7298\n",
       "2000-02-29  6734\n",
       "2000-03-31  7243\n",
       "2000-04-30  7416\n",
       "2000-05-31  7458\n",
       "2000-06-30  7250\n",
       "2000-07-31  7240\n",
       "2000-08-31  7646\n",
       "2000-09-30  7244\n",
       "2000-10-31  7495\n",
       "2000-11-30  7221\n",
       "2000-12-31  7101"
      ]
     },
     "execution_count": 3,
     "metadata": {},
     "output_type": "execute_result"
    }
   ],
   "source": [
    "df.resample('M')['col1'].sum().to_frame()\n",
    "#data yang kita akses sudah tidak bisa per individual data tetapi yang bisa kita akses adalah data agregasi"
   ]
  },
  {
   "cell_type": "markdown",
   "metadata": {},
   "source": [
    "# Resampling data dengan interval Daily atau hari"
   ]
  },
  {
   "cell_type": "code",
   "execution_count": 4,
   "metadata": {},
   "outputs": [
    {
     "data": {
      "text/html": [
       "<div>\n",
       "<style scoped>\n",
       "    .dataframe tbody tr th:only-of-type {\n",
       "        vertical-align: middle;\n",
       "    }\n",
       "\n",
       "    .dataframe tbody tr th {\n",
       "        vertical-align: top;\n",
       "    }\n",
       "\n",
       "    .dataframe thead th {\n",
       "        text-align: right;\n",
       "    }\n",
       "</style>\n",
       "<table border=\"1\" class=\"dataframe\">\n",
       "  <thead>\n",
       "    <tr style=\"text-align: right;\">\n",
       "      <th></th>\n",
       "      <th>col1</th>\n",
       "    </tr>\n",
       "  </thead>\n",
       "  <tbody>\n",
       "    <tr>\n",
       "      <th>2000-01-01</th>\n",
       "      <td>221</td>\n",
       "    </tr>\n",
       "    <tr>\n",
       "      <th>2000-01-02</th>\n",
       "      <td>236</td>\n",
       "    </tr>\n",
       "    <tr>\n",
       "      <th>2000-01-03</th>\n",
       "      <td>195</td>\n",
       "    </tr>\n",
       "    <tr>\n",
       "      <th>2000-01-04</th>\n",
       "      <td>265</td>\n",
       "    </tr>\n",
       "    <tr>\n",
       "      <th>2000-01-05</th>\n",
       "      <td>239</td>\n",
       "    </tr>\n",
       "    <tr>\n",
       "      <th>...</th>\n",
       "      <td>...</td>\n",
       "    </tr>\n",
       "    <tr>\n",
       "      <th>2000-12-26</th>\n",
       "      <td>219</td>\n",
       "    </tr>\n",
       "    <tr>\n",
       "      <th>2000-12-27</th>\n",
       "      <td>205</td>\n",
       "    </tr>\n",
       "    <tr>\n",
       "      <th>2000-12-28</th>\n",
       "      <td>299</td>\n",
       "    </tr>\n",
       "    <tr>\n",
       "      <th>2000-12-29</th>\n",
       "      <td>205</td>\n",
       "    </tr>\n",
       "    <tr>\n",
       "      <th>2000-12-30</th>\n",
       "      <td>212</td>\n",
       "    </tr>\n",
       "  </tbody>\n",
       "</table>\n",
       "<p>365 rows × 1 columns</p>\n",
       "</div>"
      ],
      "text/plain": [
       "            col1\n",
       "2000-01-01   221\n",
       "2000-01-02   236\n",
       "2000-01-03   195\n",
       "2000-01-04   265\n",
       "2000-01-05   239\n",
       "...          ...\n",
       "2000-12-26   219\n",
       "2000-12-27   205\n",
       "2000-12-28   299\n",
       "2000-12-29   205\n",
       "2000-12-30   212\n",
       "\n",
       "[365 rows x 1 columns]"
      ]
     },
     "execution_count": 4,
     "metadata": {},
     "output_type": "execute_result"
    }
   ],
   "source": [
    "df.resample('D')['col1'].sum().to_frame()"
   ]
  },
  {
   "cell_type": "markdown",
   "metadata": {},
   "source": [
    "# 18. Membentuk dummy Data Frame"
   ]
  },
  {
   "cell_type": "code",
   "execution_count": 5,
   "metadata": {},
   "outputs": [
    {
     "name": "stdout",
     "output_type": "stream",
     "text": [
      "1.1.3\n",
      "1.1.3\n"
     ]
    }
   ],
   "source": [
    "#import modules\n",
    "import pandas as pd\n",
    "import numpy as np \n",
    "\n",
    "#check Version\n",
    "print(pd.__version__)\n",
    "print(pd.__version__)"
   ]
  },
  {
   "cell_type": "markdown",
   "metadata": {},
   "source": [
    "# Membentuk Data Frame dari Dictionary"
   ]
  },
  {
   "cell_type": "code",
   "execution_count": 6,
   "metadata": {},
   "outputs": [
    {
     "data": {
      "text/html": [
       "<div>\n",
       "<style scoped>\n",
       "    .dataframe tbody tr th:only-of-type {\n",
       "        vertical-align: middle;\n",
       "    }\n",
       "\n",
       "    .dataframe tbody tr th {\n",
       "        vertical-align: top;\n",
       "    }\n",
       "\n",
       "    .dataframe thead th {\n",
       "        text-align: right;\n",
       "    }\n",
       "</style>\n",
       "<table border=\"1\" class=\"dataframe\">\n",
       "  <thead>\n",
       "    <tr style=\"text-align: right;\">\n",
       "      <th></th>\n",
       "      <th>col1</th>\n",
       "      <th>col2</th>\n",
       "    </tr>\n",
       "  </thead>\n",
       "  <tbody>\n",
       "    <tr>\n",
       "      <th>0</th>\n",
       "      <td>1</td>\n",
       "      <td>5</td>\n",
       "    </tr>\n",
       "    <tr>\n",
       "      <th>1</th>\n",
       "      <td>2</td>\n",
       "      <td>6</td>\n",
       "    </tr>\n",
       "    <tr>\n",
       "      <th>2</th>\n",
       "      <td>3</td>\n",
       "      <td>7</td>\n",
       "    </tr>\n",
       "  </tbody>\n",
       "</table>\n",
       "</div>"
      ],
      "text/plain": [
       "   col1  col2\n",
       "0     1     5\n",
       "1     2     6\n",
       "2     3     7"
      ]
     },
     "execution_count": 6,
     "metadata": {},
     "output_type": "execute_result"
    }
   ],
   "source": [
    "pd.DataFrame({'col1':[1,2,3],\n",
    "             'col2':[5,6,7]})"
   ]
  },
  {
   "cell_type": "markdown",
   "metadata": {},
   "source": [
    "# Membentuk Data Frame dari Numpy Array"
   ]
  },
  {
   "cell_type": "code",
   "execution_count": 7,
   "metadata": {},
   "outputs": [
    {
     "data": {
      "text/plain": [
       "array([[ 9,  3, 12],\n",
       "       [13, 16,  7],\n",
       "       [ 8, 14,  3],\n",
       "       [15, 13,  1],\n",
       "       [ 1,  7, 12]])"
      ]
     },
     "execution_count": 7,
     "metadata": {},
     "output_type": "execute_result"
    }
   ],
   "source": [
    "n_rows=5\n",
    "n_cols=3\n",
    "\n",
    "arr=np.random.randint(1,20,size=(n_rows, n_cols))\n",
    "arr"
   ]
  },
  {
   "cell_type": "code",
   "execution_count": 8,
   "metadata": {},
   "outputs": [
    {
     "data": {
      "text/html": [
       "<div>\n",
       "<style scoped>\n",
       "    .dataframe tbody tr th:only-of-type {\n",
       "        vertical-align: middle;\n",
       "    }\n",
       "\n",
       "    .dataframe tbody tr th {\n",
       "        vertical-align: top;\n",
       "    }\n",
       "\n",
       "    .dataframe thead th {\n",
       "        text-align: right;\n",
       "    }\n",
       "</style>\n",
       "<table border=\"1\" class=\"dataframe\">\n",
       "  <thead>\n",
       "    <tr style=\"text-align: right;\">\n",
       "      <th></th>\n",
       "      <th>A</th>\n",
       "      <th>B</th>\n",
       "      <th>C</th>\n",
       "    </tr>\n",
       "  </thead>\n",
       "  <tbody>\n",
       "    <tr>\n",
       "      <th>0</th>\n",
       "      <td>9</td>\n",
       "      <td>3</td>\n",
       "      <td>12</td>\n",
       "    </tr>\n",
       "    <tr>\n",
       "      <th>1</th>\n",
       "      <td>13</td>\n",
       "      <td>16</td>\n",
       "      <td>7</td>\n",
       "    </tr>\n",
       "    <tr>\n",
       "      <th>2</th>\n",
       "      <td>8</td>\n",
       "      <td>14</td>\n",
       "      <td>3</td>\n",
       "    </tr>\n",
       "    <tr>\n",
       "      <th>3</th>\n",
       "      <td>15</td>\n",
       "      <td>13</td>\n",
       "      <td>1</td>\n",
       "    </tr>\n",
       "    <tr>\n",
       "      <th>4</th>\n",
       "      <td>1</td>\n",
       "      <td>7</td>\n",
       "      <td>12</td>\n",
       "    </tr>\n",
       "  </tbody>\n",
       "</table>\n",
       "</div>"
      ],
      "text/plain": [
       "    A   B   C\n",
       "0   9   3  12\n",
       "1  13  16   7\n",
       "2   8  14   3\n",
       "3  15  13   1\n",
       "4   1   7  12"
      ]
     },
     "execution_count": 8,
     "metadata": {},
     "output_type": "execute_result"
    }
   ],
   "source": [
    "pd.DataFrame(arr,columns=tuple('ABC'))"
   ]
  },
  {
   "cell_type": "markdown",
   "metadata": {},
   "source": [
    "# Membentuk Data Frame dengan memanfaatkan pandas.util.testing"
   ]
  },
  {
   "cell_type": "code",
   "execution_count": 9,
   "metadata": {},
   "outputs": [
    {
     "data": {
      "text/html": [
       "<div>\n",
       "<style scoped>\n",
       "    .dataframe tbody tr th:only-of-type {\n",
       "        vertical-align: middle;\n",
       "    }\n",
       "\n",
       "    .dataframe tbody tr th {\n",
       "        vertical-align: top;\n",
       "    }\n",
       "\n",
       "    .dataframe thead th {\n",
       "        text-align: right;\n",
       "    }\n",
       "</style>\n",
       "<table border=\"1\" class=\"dataframe\">\n",
       "  <thead>\n",
       "    <tr style=\"text-align: right;\">\n",
       "      <th></th>\n",
       "      <th>A</th>\n",
       "      <th>B</th>\n",
       "      <th>C</th>\n",
       "      <th>D</th>\n",
       "    </tr>\n",
       "  </thead>\n",
       "  <tbody>\n",
       "    <tr>\n",
       "      <th>D5v0LPPEPy</th>\n",
       "      <td>0.379429</td>\n",
       "      <td>1.764169</td>\n",
       "      <td>0.471369</td>\n",
       "      <td>-0.402845</td>\n",
       "    </tr>\n",
       "    <tr>\n",
       "      <th>pPYQ4TLsBC</th>\n",
       "      <td>0.387352</td>\n",
       "      <td>-1.892210</td>\n",
       "      <td>-0.629272</td>\n",
       "      <td>0.055942</td>\n",
       "    </tr>\n",
       "    <tr>\n",
       "      <th>WFURxn8sWI</th>\n",
       "      <td>0.593588</td>\n",
       "      <td>1.395006</td>\n",
       "      <td>2.353247</td>\n",
       "      <td>-0.876895</td>\n",
       "    </tr>\n",
       "    <tr>\n",
       "      <th>5Eq6EOk2KE</th>\n",
       "      <td>0.893267</td>\n",
       "      <td>-1.591429</td>\n",
       "      <td>-0.024658</td>\n",
       "      <td>-1.626824</td>\n",
       "    </tr>\n",
       "    <tr>\n",
       "      <th>Yabzi0K9De</th>\n",
       "      <td>0.111196</td>\n",
       "      <td>-0.696500</td>\n",
       "      <td>-1.970783</td>\n",
       "      <td>-1.013995</td>\n",
       "    </tr>\n",
       "  </tbody>\n",
       "</table>\n",
       "</div>"
      ],
      "text/plain": [
       "                   A         B         C         D\n",
       "D5v0LPPEPy  0.379429  1.764169  0.471369 -0.402845\n",
       "pPYQ4TLsBC  0.387352 -1.892210 -0.629272  0.055942\n",
       "WFURxn8sWI  0.593588  1.395006  2.353247 -0.876895\n",
       "5Eq6EOk2KE  0.893267 -1.591429 -0.024658 -1.626824\n",
       "Yabzi0K9De  0.111196 -0.696500 -1.970783 -1.013995"
      ]
     },
     "execution_count": 9,
     "metadata": {},
     "output_type": "execute_result"
    }
   ],
   "source": [
    "pd.util.testing.makeDataFrame().head()\n",
    "#Membuat sebuah Dummy Data Frame sederhana"
   ]
  },
  {
   "cell_type": "code",
   "execution_count": 10,
   "metadata": {},
   "outputs": [
    {
     "data": {
      "text/html": [
       "<div>\n",
       "<style scoped>\n",
       "    .dataframe tbody tr th:only-of-type {\n",
       "        vertical-align: middle;\n",
       "    }\n",
       "\n",
       "    .dataframe tbody tr th {\n",
       "        vertical-align: top;\n",
       "    }\n",
       "\n",
       "    .dataframe thead th {\n",
       "        text-align: right;\n",
       "    }\n",
       "</style>\n",
       "<table border=\"1\" class=\"dataframe\">\n",
       "  <thead>\n",
       "    <tr style=\"text-align: right;\">\n",
       "      <th></th>\n",
       "      <th>A</th>\n",
       "      <th>B</th>\n",
       "      <th>C</th>\n",
       "      <th>D</th>\n",
       "    </tr>\n",
       "  </thead>\n",
       "  <tbody>\n",
       "    <tr>\n",
       "      <th>0</th>\n",
       "      <td>0.0</td>\n",
       "      <td>0.0</td>\n",
       "      <td>foo1</td>\n",
       "      <td>2009-01-01</td>\n",
       "    </tr>\n",
       "    <tr>\n",
       "      <th>1</th>\n",
       "      <td>1.0</td>\n",
       "      <td>1.0</td>\n",
       "      <td>foo2</td>\n",
       "      <td>2009-01-02</td>\n",
       "    </tr>\n",
       "    <tr>\n",
       "      <th>2</th>\n",
       "      <td>2.0</td>\n",
       "      <td>0.0</td>\n",
       "      <td>foo3</td>\n",
       "      <td>2009-01-05</td>\n",
       "    </tr>\n",
       "    <tr>\n",
       "      <th>3</th>\n",
       "      <td>3.0</td>\n",
       "      <td>1.0</td>\n",
       "      <td>foo4</td>\n",
       "      <td>2009-01-06</td>\n",
       "    </tr>\n",
       "    <tr>\n",
       "      <th>4</th>\n",
       "      <td>4.0</td>\n",
       "      <td>0.0</td>\n",
       "      <td>foo5</td>\n",
       "      <td>2009-01-07</td>\n",
       "    </tr>\n",
       "  </tbody>\n",
       "</table>\n",
       "</div>"
      ],
      "text/plain": [
       "     A    B     C          D\n",
       "0  0.0  0.0  foo1 2009-01-01\n",
       "1  1.0  1.0  foo2 2009-01-02\n",
       "2  2.0  0.0  foo3 2009-01-05\n",
       "3  3.0  1.0  foo4 2009-01-06\n",
       "4  4.0  0.0  foo5 2009-01-07"
      ]
     },
     "execution_count": 10,
     "metadata": {},
     "output_type": "execute_result"
    }
   ],
   "source": [
    "pd.util.testing.makeMixedDataFrame().head()\n",
    "#Membuat sebuah Dummy Data Frame dengan tipe data campuran "
   ]
  },
  {
   "cell_type": "code",
   "execution_count": 11,
   "metadata": {},
   "outputs": [
    {
     "data": {
      "text/html": [
       "<div>\n",
       "<style scoped>\n",
       "    .dataframe tbody tr th:only-of-type {\n",
       "        vertical-align: middle;\n",
       "    }\n",
       "\n",
       "    .dataframe tbody tr th {\n",
       "        vertical-align: top;\n",
       "    }\n",
       "\n",
       "    .dataframe thead th {\n",
       "        text-align: right;\n",
       "    }\n",
       "</style>\n",
       "<table border=\"1\" class=\"dataframe\">\n",
       "  <thead>\n",
       "    <tr style=\"text-align: right;\">\n",
       "      <th></th>\n",
       "      <th>A</th>\n",
       "      <th>B</th>\n",
       "      <th>C</th>\n",
       "      <th>D</th>\n",
       "    </tr>\n",
       "  </thead>\n",
       "  <tbody>\n",
       "    <tr>\n",
       "      <th>2000-01-03</th>\n",
       "      <td>-1.445923</td>\n",
       "      <td>0.013082</td>\n",
       "      <td>-1.073798</td>\n",
       "      <td>-1.236008</td>\n",
       "    </tr>\n",
       "    <tr>\n",
       "      <th>2000-01-04</th>\n",
       "      <td>-0.703756</td>\n",
       "      <td>2.031643</td>\n",
       "      <td>0.593736</td>\n",
       "      <td>1.148883</td>\n",
       "    </tr>\n",
       "    <tr>\n",
       "      <th>2000-01-05</th>\n",
       "      <td>-0.190801</td>\n",
       "      <td>-0.595305</td>\n",
       "      <td>0.274482</td>\n",
       "      <td>1.175906</td>\n",
       "    </tr>\n",
       "    <tr>\n",
       "      <th>2000-01-06</th>\n",
       "      <td>0.405003</td>\n",
       "      <td>1.021338</td>\n",
       "      <td>-0.305311</td>\n",
       "      <td>-0.662997</td>\n",
       "    </tr>\n",
       "    <tr>\n",
       "      <th>2000-01-07</th>\n",
       "      <td>0.311412</td>\n",
       "      <td>-0.017309</td>\n",
       "      <td>1.012671</td>\n",
       "      <td>1.223113</td>\n",
       "    </tr>\n",
       "  </tbody>\n",
       "</table>\n",
       "</div>"
      ],
      "text/plain": [
       "                   A         B         C         D\n",
       "2000-01-03 -1.445923  0.013082 -1.073798 -1.236008\n",
       "2000-01-04 -0.703756  2.031643  0.593736  1.148883\n",
       "2000-01-05 -0.190801 -0.595305  0.274482  1.175906\n",
       "2000-01-06  0.405003  1.021338 -0.305311 -0.662997\n",
       "2000-01-07  0.311412 -0.017309  1.012671  1.223113"
      ]
     },
     "execution_count": 11,
     "metadata": {},
     "output_type": "execute_result"
    }
   ],
   "source": [
    "pd.util.testing.makeTimeDataFrame().head()\n",
    "#Membentuk DataFrame yang berisi tipe data waktu"
   ]
  },
  {
   "cell_type": "code",
   "execution_count": 12,
   "metadata": {},
   "outputs": [
    {
     "data": {
      "text/html": [
       "<div>\n",
       "<style scoped>\n",
       "    .dataframe tbody tr th:only-of-type {\n",
       "        vertical-align: middle;\n",
       "    }\n",
       "\n",
       "    .dataframe tbody tr th {\n",
       "        vertical-align: top;\n",
       "    }\n",
       "\n",
       "    .dataframe thead th {\n",
       "        text-align: right;\n",
       "    }\n",
       "</style>\n",
       "<table border=\"1\" class=\"dataframe\">\n",
       "  <thead>\n",
       "    <tr style=\"text-align: right;\">\n",
       "      <th></th>\n",
       "      <th>A</th>\n",
       "      <th>B</th>\n",
       "      <th>C</th>\n",
       "      <th>D</th>\n",
       "    </tr>\n",
       "  </thead>\n",
       "  <tbody>\n",
       "    <tr>\n",
       "      <th>JM70g878Pu</th>\n",
       "      <td>-0.714162</td>\n",
       "      <td>-0.486863</td>\n",
       "      <td>-0.057366</td>\n",
       "      <td>0.595785</td>\n",
       "    </tr>\n",
       "    <tr>\n",
       "      <th>iKKtzmu9Lk</th>\n",
       "      <td>-0.257414</td>\n",
       "      <td>-1.092126</td>\n",
       "      <td>1.349956</td>\n",
       "      <td>-1.027717</td>\n",
       "    </tr>\n",
       "    <tr>\n",
       "      <th>8LXil51KSu</th>\n",
       "      <td>1.378600</td>\n",
       "      <td>-0.969982</td>\n",
       "      <td>NaN</td>\n",
       "      <td>NaN</td>\n",
       "    </tr>\n",
       "    <tr>\n",
       "      <th>AiOnJQHjQM</th>\n",
       "      <td>0.684133</td>\n",
       "      <td>-0.220585</td>\n",
       "      <td>-0.152761</td>\n",
       "      <td>1.716181</td>\n",
       "    </tr>\n",
       "    <tr>\n",
       "      <th>BI14Wz6ZhV</th>\n",
       "      <td>-0.753927</td>\n",
       "      <td>1.426161</td>\n",
       "      <td>0.971431</td>\n",
       "      <td>1.426419</td>\n",
       "    </tr>\n",
       "  </tbody>\n",
       "</table>\n",
       "</div>"
      ],
      "text/plain": [
       "                   A         B         C         D\n",
       "JM70g878Pu -0.714162 -0.486863 -0.057366  0.595785\n",
       "iKKtzmu9Lk -0.257414 -1.092126  1.349956 -1.027717\n",
       "8LXil51KSu  1.378600 -0.969982       NaN       NaN\n",
       "AiOnJQHjQM  0.684133 -0.220585 -0.152761  1.716181\n",
       "BI14Wz6ZhV -0.753927  1.426161  0.971431  1.426419"
      ]
     },
     "execution_count": 12,
     "metadata": {},
     "output_type": "execute_result"
    }
   ],
   "source": [
    "pd.util.testing.makeMissingDataframe().head()\n",
    "#Membentuk DataFrame dummy yang memiliki beberapa missing value atu NaN yang ditempatkan secara acak"
   ]
  },
  {
   "cell_type": "markdown",
   "metadata": {},
   "source": [
    "# 19. Formatting tampilan Data Frame\n"
   ]
  },
  {
   "cell_type": "code",
   "execution_count": 13,
   "metadata": {},
   "outputs": [
    {
     "name": "stdout",
     "output_type": "stream",
     "text": [
      "1.1.3\n",
      "1.1.3\n"
     ]
    }
   ],
   "source": [
    "#import modules\n",
    "import pandas as pd\n",
    "import numpy as np \n",
    "\n",
    "#check Version\n",
    "print(pd.__version__)\n",
    "print(pd.__version__)\n"
   ]
  },
  {
   "cell_type": "markdown",
   "metadata": {},
   "source": [
    "Data Frame Prep"
   ]
  },
  {
   "cell_type": "code",
   "execution_count": 39,
   "metadata": {},
   "outputs": [
    {
     "data": {
      "text/html": [
       "<div>\n",
       "<style scoped>\n",
       "    .dataframe tbody tr th:only-of-type {\n",
       "        vertical-align: middle;\n",
       "    }\n",
       "\n",
       "    .dataframe tbody tr th {\n",
       "        vertical-align: top;\n",
       "    }\n",
       "\n",
       "    .dataframe thead th {\n",
       "        text-align: right;\n",
       "    }\n",
       "</style>\n",
       "<table border=\"1\" class=\"dataframe\">\n",
       "  <thead>\n",
       "    <tr style=\"text-align: right;\">\n",
       "      <th></th>\n",
       "      <th>Omset</th>\n",
       "      <th>Operasional</th>\n",
       "    </tr>\n",
       "  </thead>\n",
       "  <tbody>\n",
       "    <tr>\n",
       "      <th>0</th>\n",
       "      <td>15</td>\n",
       "      <td>16</td>\n",
       "    </tr>\n",
       "    <tr>\n",
       "      <th>1</th>\n",
       "      <td>16</td>\n",
       "      <td>18</td>\n",
       "    </tr>\n",
       "    <tr>\n",
       "      <th>2</th>\n",
       "      <td>9</td>\n",
       "      <td>16</td>\n",
       "    </tr>\n",
       "    <tr>\n",
       "      <th>3</th>\n",
       "      <td>4</td>\n",
       "      <td>18</td>\n",
       "    </tr>\n",
       "    <tr>\n",
       "      <th>4</th>\n",
       "      <td>4</td>\n",
       "      <td>3</td>\n",
       "    </tr>\n",
       "  </tbody>\n",
       "</table>\n",
       "</div>"
      ],
      "text/plain": [
       "   Omset  Operasional\n",
       "0     15           16\n",
       "1     16           18\n",
       "2      9           16\n",
       "3      4           18\n",
       "4      4            3"
      ]
     },
     "execution_count": 39,
     "metadata": {},
     "output_type": "execute_result"
    }
   ],
   "source": [
    "n_rows=5\n",
    "n_cols=2\n",
    "cols=['Omset','Operasional']\n",
    "\n",
    "df=pd.DataFrame(np.random.randint(1,20,size=(n_rows, n_cols)),\n",
    "               columns=cols)\n",
    "\n",
    "\n",
    "df"
   ]
  },
  {
   "cell_type": "code",
   "execution_count": 40,
   "metadata": {},
   "outputs": [
    {
     "data": {
      "text/html": [
       "<div>\n",
       "<style scoped>\n",
       "    .dataframe tbody tr th:only-of-type {\n",
       "        vertical-align: middle;\n",
       "    }\n",
       "\n",
       "    .dataframe tbody tr th {\n",
       "        vertical-align: top;\n",
       "    }\n",
       "\n",
       "    .dataframe thead th {\n",
       "        text-align: right;\n",
       "    }\n",
       "</style>\n",
       "<table border=\"1\" class=\"dataframe\">\n",
       "  <thead>\n",
       "    <tr style=\"text-align: right;\">\n",
       "      <th></th>\n",
       "      <th>Omset</th>\n",
       "      <th>Operasional</th>\n",
       "    </tr>\n",
       "  </thead>\n",
       "  <tbody>\n",
       "    <tr>\n",
       "      <th>0</th>\n",
       "      <td>160000</td>\n",
       "      <td>16</td>\n",
       "    </tr>\n",
       "    <tr>\n",
       "      <th>1</th>\n",
       "      <td>180000</td>\n",
       "      <td>18</td>\n",
       "    </tr>\n",
       "    <tr>\n",
       "      <th>2</th>\n",
       "      <td>160000</td>\n",
       "      <td>16</td>\n",
       "    </tr>\n",
       "    <tr>\n",
       "      <th>3</th>\n",
       "      <td>180000</td>\n",
       "      <td>18</td>\n",
       "    </tr>\n",
       "    <tr>\n",
       "      <th>4</th>\n",
       "      <td>30000</td>\n",
       "      <td>3</td>\n",
       "    </tr>\n",
       "  </tbody>\n",
       "</table>\n",
       "</div>"
      ],
      "text/plain": [
       "    Omset  Operasional\n",
       "0  160000           16\n",
       "1  180000           18\n",
       "2  160000           16\n",
       "3  180000           18\n",
       "4   30000            3"
      ]
     },
     "execution_count": 40,
     "metadata": {},
     "output_type": "execute_result"
    }
   ],
   "source": [
    "df['Omset']=df['Operasional']*100_000\n",
    "df['Omset']=df['Operasional']*10_000\n",
    "df"
   ]
  },
  {
   "cell_type": "code",
   "execution_count": 41,
   "metadata": {},
   "outputs": [
    {
     "data": {
      "text/html": [
       "<div>\n",
       "<style scoped>\n",
       "    .dataframe tbody tr th:only-of-type {\n",
       "        vertical-align: middle;\n",
       "    }\n",
       "\n",
       "    .dataframe tbody tr th {\n",
       "        vertical-align: top;\n",
       "    }\n",
       "\n",
       "    .dataframe thead th {\n",
       "        text-align: right;\n",
       "    }\n",
       "</style>\n",
       "<table border=\"1\" class=\"dataframe\">\n",
       "  <thead>\n",
       "    <tr style=\"text-align: right;\">\n",
       "      <th></th>\n",
       "      <th>tanggal</th>\n",
       "      <th>Omset</th>\n",
       "      <th>Operasional</th>\n",
       "    </tr>\n",
       "  </thead>\n",
       "  <tbody>\n",
       "    <tr>\n",
       "      <th>0</th>\n",
       "      <td>2000-01-01</td>\n",
       "      <td>160000</td>\n",
       "      <td>16</td>\n",
       "    </tr>\n",
       "    <tr>\n",
       "      <th>1</th>\n",
       "      <td>2000-01-02</td>\n",
       "      <td>180000</td>\n",
       "      <td>18</td>\n",
       "    </tr>\n",
       "    <tr>\n",
       "      <th>2</th>\n",
       "      <td>2000-01-03</td>\n",
       "      <td>160000</td>\n",
       "      <td>16</td>\n",
       "    </tr>\n",
       "    <tr>\n",
       "      <th>3</th>\n",
       "      <td>2000-01-04</td>\n",
       "      <td>180000</td>\n",
       "      <td>18</td>\n",
       "    </tr>\n",
       "    <tr>\n",
       "      <th>4</th>\n",
       "      <td>2000-01-05</td>\n",
       "      <td>30000</td>\n",
       "      <td>3</td>\n",
       "    </tr>\n",
       "  </tbody>\n",
       "</table>\n",
       "</div>"
      ],
      "text/plain": [
       "     tanggal   Omset  Operasional\n",
       "0 2000-01-01  160000           16\n",
       "1 2000-01-02  180000           18\n",
       "2 2000-01-03  160000           16\n",
       "3 2000-01-04  180000           18\n",
       "4 2000-01-05   30000            3"
      ]
     },
     "execution_count": 41,
     "metadata": {},
     "output_type": "execute_result"
    }
   ],
   "source": [
    "df.index = pd.util.testing.makeDateIndex(n_rows,freq='D')\n",
    "df = df.reset_index()\n",
    "df = df.rename(columns={'index':'tanggal'})\n",
    "df"
   ]
  },
  {
   "cell_type": "markdown",
   "metadata": {},
   "source": [
    "# Melakukan Formatting Tampilan Data Frame"
   ]
  },
  {
   "cell_type": "code",
   "execution_count": 42,
   "metadata": {},
   "outputs": [
    {
     "data": {
      "text/html": [
       "<style  type=\"text/css\" >\n",
       "</style><table id=\"T_85ba1a67_2c9e_11ec_8d13_f0038c858274\" ><thead>    <tr>        <th class=\"blank level0\" ></th>        <th class=\"col_heading level0 col0\" >tanggal</th>        <th class=\"col_heading level0 col1\" >Omset</th>        <th class=\"col_heading level0 col2\" >Operasional</th>    </tr></thead><tbody>\n",
       "                <tr>\n",
       "                        <th id=\"T_85ba1a67_2c9e_11ec_8d13_f0038c858274level0_row0\" class=\"row_heading level0 row0\" >0</th>\n",
       "                        <td id=\"T_85ba1a67_2c9e_11ec_8d13_f0038c858274row0_col0\" class=\"data row0 col0\" >01/01/00</td>\n",
       "                        <td id=\"T_85ba1a67_2c9e_11ec_8d13_f0038c858274row0_col1\" class=\"data row0 col1\" >Rp 160000.00</td>\n",
       "                        <td id=\"T_85ba1a67_2c9e_11ec_8d13_f0038c858274row0_col2\" class=\"data row0 col2\" >Rp16.00</td>\n",
       "            </tr>\n",
       "            <tr>\n",
       "                        <th id=\"T_85ba1a67_2c9e_11ec_8d13_f0038c858274level0_row1\" class=\"row_heading level0 row1\" >1</th>\n",
       "                        <td id=\"T_85ba1a67_2c9e_11ec_8d13_f0038c858274row1_col0\" class=\"data row1 col0\" >02/01/00</td>\n",
       "                        <td id=\"T_85ba1a67_2c9e_11ec_8d13_f0038c858274row1_col1\" class=\"data row1 col1\" >Rp 180000.00</td>\n",
       "                        <td id=\"T_85ba1a67_2c9e_11ec_8d13_f0038c858274row1_col2\" class=\"data row1 col2\" >Rp18.00</td>\n",
       "            </tr>\n",
       "            <tr>\n",
       "                        <th id=\"T_85ba1a67_2c9e_11ec_8d13_f0038c858274level0_row2\" class=\"row_heading level0 row2\" >2</th>\n",
       "                        <td id=\"T_85ba1a67_2c9e_11ec_8d13_f0038c858274row2_col0\" class=\"data row2 col0\" >03/01/00</td>\n",
       "                        <td id=\"T_85ba1a67_2c9e_11ec_8d13_f0038c858274row2_col1\" class=\"data row2 col1\" >Rp 160000.00</td>\n",
       "                        <td id=\"T_85ba1a67_2c9e_11ec_8d13_f0038c858274row2_col2\" class=\"data row2 col2\" >Rp16.00</td>\n",
       "            </tr>\n",
       "            <tr>\n",
       "                        <th id=\"T_85ba1a67_2c9e_11ec_8d13_f0038c858274level0_row3\" class=\"row_heading level0 row3\" >3</th>\n",
       "                        <td id=\"T_85ba1a67_2c9e_11ec_8d13_f0038c858274row3_col0\" class=\"data row3 col0\" >04/01/00</td>\n",
       "                        <td id=\"T_85ba1a67_2c9e_11ec_8d13_f0038c858274row3_col1\" class=\"data row3 col1\" >Rp 180000.00</td>\n",
       "                        <td id=\"T_85ba1a67_2c9e_11ec_8d13_f0038c858274row3_col2\" class=\"data row3 col2\" >Rp18.00</td>\n",
       "            </tr>\n",
       "            <tr>\n",
       "                        <th id=\"T_85ba1a67_2c9e_11ec_8d13_f0038c858274level0_row4\" class=\"row_heading level0 row4\" >4</th>\n",
       "                        <td id=\"T_85ba1a67_2c9e_11ec_8d13_f0038c858274row4_col0\" class=\"data row4 col0\" >05/01/00</td>\n",
       "                        <td id=\"T_85ba1a67_2c9e_11ec_8d13_f0038c858274row4_col1\" class=\"data row4 col1\" >Rp 30000.00</td>\n",
       "                        <td id=\"T_85ba1a67_2c9e_11ec_8d13_f0038c858274row4_col2\" class=\"data row4 col2\" >Rp3.00</td>\n",
       "            </tr>\n",
       "    </tbody></table>"
      ],
      "text/plain": [
       "<pandas.io.formats.style.Styler at 0x1688f4bc4f0>"
      ]
     },
     "execution_count": 42,
     "metadata": {},
     "output_type": "execute_result"
    }
   ],
   "source": [
    "formatku = {'tanggal':'{:%d/%m/%y}', # untuk membentuk format tanggal\n",
    "           'Omset': 'Rp {:.2f}',\n",
    "            'Operasional': 'Rp{:.2f}'}\n",
    "laporan = df.style.format(formatku)\n",
    "laporan\n",
    "#2f berarti menampilkan nilai dengan 2 angka dibelakang koma"
   ]
  },
  {
   "cell_type": "code",
   "execution_count": 43,
   "metadata": {},
   "outputs": [
    {
     "data": {
      "text/plain": [
       "pandas.io.formats.style.Styler"
      ]
     },
     "execution_count": 43,
     "metadata": {},
     "output_type": "execute_result"
    }
   ],
   "source": [
    "type(laporan)"
   ]
  },
  {
   "cell_type": "code",
   "execution_count": 44,
   "metadata": {},
   "outputs": [
    {
     "data": {
      "text/html": [
       "<style  type=\"text/css\" >\n",
       "</style><table id=\"T_8864ae53_2c9e_11ec_b5a4_f0038c858274\" ><thead>    <tr>        <th class=\"col_heading level0 col0\" >tanggal</th>        <th class=\"col_heading level0 col1\" >Omset</th>        <th class=\"col_heading level0 col2\" >Operasional</th>    </tr></thead><tbody>\n",
       "                <tr>\n",
       "                                <td id=\"T_8864ae53_2c9e_11ec_b5a4_f0038c858274row0_col0\" class=\"data row0 col0\" >01/01/00</td>\n",
       "                        <td id=\"T_8864ae53_2c9e_11ec_b5a4_f0038c858274row0_col1\" class=\"data row0 col1\" >Rp 160000.00</td>\n",
       "                        <td id=\"T_8864ae53_2c9e_11ec_b5a4_f0038c858274row0_col2\" class=\"data row0 col2\" >Rp16.00</td>\n",
       "            </tr>\n",
       "            <tr>\n",
       "                                <td id=\"T_8864ae53_2c9e_11ec_b5a4_f0038c858274row1_col0\" class=\"data row1 col0\" >02/01/00</td>\n",
       "                        <td id=\"T_8864ae53_2c9e_11ec_b5a4_f0038c858274row1_col1\" class=\"data row1 col1\" >Rp 180000.00</td>\n",
       "                        <td id=\"T_8864ae53_2c9e_11ec_b5a4_f0038c858274row1_col2\" class=\"data row1 col2\" >Rp18.00</td>\n",
       "            </tr>\n",
       "            <tr>\n",
       "                                <td id=\"T_8864ae53_2c9e_11ec_b5a4_f0038c858274row2_col0\" class=\"data row2 col0\" >03/01/00</td>\n",
       "                        <td id=\"T_8864ae53_2c9e_11ec_b5a4_f0038c858274row2_col1\" class=\"data row2 col1\" >Rp 160000.00</td>\n",
       "                        <td id=\"T_8864ae53_2c9e_11ec_b5a4_f0038c858274row2_col2\" class=\"data row2 col2\" >Rp16.00</td>\n",
       "            </tr>\n",
       "            <tr>\n",
       "                                <td id=\"T_8864ae53_2c9e_11ec_b5a4_f0038c858274row3_col0\" class=\"data row3 col0\" >04/01/00</td>\n",
       "                        <td id=\"T_8864ae53_2c9e_11ec_b5a4_f0038c858274row3_col1\" class=\"data row3 col1\" >Rp 180000.00</td>\n",
       "                        <td id=\"T_8864ae53_2c9e_11ec_b5a4_f0038c858274row3_col2\" class=\"data row3 col2\" >Rp18.00</td>\n",
       "            </tr>\n",
       "            <tr>\n",
       "                                <td id=\"T_8864ae53_2c9e_11ec_b5a4_f0038c858274row4_col0\" class=\"data row4 col0\" >05/01/00</td>\n",
       "                        <td id=\"T_8864ae53_2c9e_11ec_b5a4_f0038c858274row4_col1\" class=\"data row4 col1\" >Rp 30000.00</td>\n",
       "                        <td id=\"T_8864ae53_2c9e_11ec_b5a4_f0038c858274row4_col2\" class=\"data row4 col2\" >Rp3.00</td>\n",
       "            </tr>\n",
       "    </tbody></table>"
      ],
      "text/plain": [
       "<pandas.io.formats.style.Styler at 0x1688f4bc4f0>"
      ]
     },
     "execution_count": 44,
     "metadata": {},
     "output_type": "execute_result"
    }
   ],
   "source": [
    "laporan.hide_index()"
   ]
  },
  {
   "cell_type": "code",
   "execution_count": 45,
   "metadata": {},
   "outputs": [
    {
     "data": {
      "text/html": [
       "<style  type=\"text/css\" >\n",
       "</style><table id=\"T_895f0425_2c9e_11ec_8d65_f0038c858274\" ><caption>Data Omset dan Operasional</caption><thead>    <tr>        <th class=\"col_heading level0 col0\" >tanggal</th>        <th class=\"col_heading level0 col1\" >Omset</th>        <th class=\"col_heading level0 col2\" >Operasional</th>    </tr></thead><tbody>\n",
       "                <tr>\n",
       "                                <td id=\"T_895f0425_2c9e_11ec_8d65_f0038c858274row0_col0\" class=\"data row0 col0\" >01/01/00</td>\n",
       "                        <td id=\"T_895f0425_2c9e_11ec_8d65_f0038c858274row0_col1\" class=\"data row0 col1\" >Rp 160000.00</td>\n",
       "                        <td id=\"T_895f0425_2c9e_11ec_8d65_f0038c858274row0_col2\" class=\"data row0 col2\" >Rp16.00</td>\n",
       "            </tr>\n",
       "            <tr>\n",
       "                                <td id=\"T_895f0425_2c9e_11ec_8d65_f0038c858274row1_col0\" class=\"data row1 col0\" >02/01/00</td>\n",
       "                        <td id=\"T_895f0425_2c9e_11ec_8d65_f0038c858274row1_col1\" class=\"data row1 col1\" >Rp 180000.00</td>\n",
       "                        <td id=\"T_895f0425_2c9e_11ec_8d65_f0038c858274row1_col2\" class=\"data row1 col2\" >Rp18.00</td>\n",
       "            </tr>\n",
       "            <tr>\n",
       "                                <td id=\"T_895f0425_2c9e_11ec_8d65_f0038c858274row2_col0\" class=\"data row2 col0\" >03/01/00</td>\n",
       "                        <td id=\"T_895f0425_2c9e_11ec_8d65_f0038c858274row2_col1\" class=\"data row2 col1\" >Rp 160000.00</td>\n",
       "                        <td id=\"T_895f0425_2c9e_11ec_8d65_f0038c858274row2_col2\" class=\"data row2 col2\" >Rp16.00</td>\n",
       "            </tr>\n",
       "            <tr>\n",
       "                                <td id=\"T_895f0425_2c9e_11ec_8d65_f0038c858274row3_col0\" class=\"data row3 col0\" >04/01/00</td>\n",
       "                        <td id=\"T_895f0425_2c9e_11ec_8d65_f0038c858274row3_col1\" class=\"data row3 col1\" >Rp 180000.00</td>\n",
       "                        <td id=\"T_895f0425_2c9e_11ec_8d65_f0038c858274row3_col2\" class=\"data row3 col2\" >Rp18.00</td>\n",
       "            </tr>\n",
       "            <tr>\n",
       "                                <td id=\"T_895f0425_2c9e_11ec_8d65_f0038c858274row4_col0\" class=\"data row4 col0\" >05/01/00</td>\n",
       "                        <td id=\"T_895f0425_2c9e_11ec_8d65_f0038c858274row4_col1\" class=\"data row4 col1\" >Rp 30000.00</td>\n",
       "                        <td id=\"T_895f0425_2c9e_11ec_8d65_f0038c858274row4_col2\" class=\"data row4 col2\" >Rp3.00</td>\n",
       "            </tr>\n",
       "    </tbody></table>"
      ],
      "text/plain": [
       "<pandas.io.formats.style.Styler at 0x1688f4bc4f0>"
      ]
     },
     "execution_count": 45,
     "metadata": {},
     "output_type": "execute_result"
    }
   ],
   "source": [
    "laporan.set_caption('Data Omset dan Operasional')"
   ]
  },
  {
   "cell_type": "code",
   "execution_count": 47,
   "metadata": {},
   "outputs": [
    {
     "data": {
      "text/html": [
       "<style  type=\"text/css\" >\n",
       "#T_c15e87cb_2c9e_11ec_80b2_f0038c858274row1_col1,#T_c15e87cb_2c9e_11ec_80b2_f0038c858274row3_col1{\n",
       "            background-color:  lightgreen;\n",
       "            background-color:  lightgreen;\n",
       "            background-color:  lightgreen;\n",
       "        }#T_c15e87cb_2c9e_11ec_80b2_f0038c858274row1_col2,#T_c15e87cb_2c9e_11ec_80b2_f0038c858274row3_col2{\n",
       "            background-color:  grey;\n",
       "        }#T_c15e87cb_2c9e_11ec_80b2_f0038c858274row4_col1{\n",
       "            background-color:  magenta;\n",
       "            background-color:  magenta;\n",
       "            background-color:  magenta;\n",
       "        }#T_c15e87cb_2c9e_11ec_80b2_f0038c858274row4_col2{\n",
       "            background-color:  lightblue;\n",
       "            background-color:  grey;\n",
       "            background-color:  lightblue;\n",
       "            background-color:  grey;\n",
       "            background-color:  lightblue;\n",
       "        }</style><table id=\"T_c15e87cb_2c9e_11ec_80b2_f0038c858274\" ><caption>Data Omset dan Operasional</caption><thead>    <tr>        <th class=\"col_heading level0 col0\" >tanggal</th>        <th class=\"col_heading level0 col1\" >Omset</th>        <th class=\"col_heading level0 col2\" >Operasional</th>    </tr></thead><tbody>\n",
       "                <tr>\n",
       "                                <td id=\"T_c15e87cb_2c9e_11ec_80b2_f0038c858274row0_col0\" class=\"data row0 col0\" >01/01/00</td>\n",
       "                        <td id=\"T_c15e87cb_2c9e_11ec_80b2_f0038c858274row0_col1\" class=\"data row0 col1\" >Rp 160000.00</td>\n",
       "                        <td id=\"T_c15e87cb_2c9e_11ec_80b2_f0038c858274row0_col2\" class=\"data row0 col2\" >Rp16.00</td>\n",
       "            </tr>\n",
       "            <tr>\n",
       "                                <td id=\"T_c15e87cb_2c9e_11ec_80b2_f0038c858274row1_col0\" class=\"data row1 col0\" >02/01/00</td>\n",
       "                        <td id=\"T_c15e87cb_2c9e_11ec_80b2_f0038c858274row1_col1\" class=\"data row1 col1\" >Rp 180000.00</td>\n",
       "                        <td id=\"T_c15e87cb_2c9e_11ec_80b2_f0038c858274row1_col2\" class=\"data row1 col2\" >Rp18.00</td>\n",
       "            </tr>\n",
       "            <tr>\n",
       "                                <td id=\"T_c15e87cb_2c9e_11ec_80b2_f0038c858274row2_col0\" class=\"data row2 col0\" >03/01/00</td>\n",
       "                        <td id=\"T_c15e87cb_2c9e_11ec_80b2_f0038c858274row2_col1\" class=\"data row2 col1\" >Rp 160000.00</td>\n",
       "                        <td id=\"T_c15e87cb_2c9e_11ec_80b2_f0038c858274row2_col2\" class=\"data row2 col2\" >Rp16.00</td>\n",
       "            </tr>\n",
       "            <tr>\n",
       "                                <td id=\"T_c15e87cb_2c9e_11ec_80b2_f0038c858274row3_col0\" class=\"data row3 col0\" >04/01/00</td>\n",
       "                        <td id=\"T_c15e87cb_2c9e_11ec_80b2_f0038c858274row3_col1\" class=\"data row3 col1\" >Rp 180000.00</td>\n",
       "                        <td id=\"T_c15e87cb_2c9e_11ec_80b2_f0038c858274row3_col2\" class=\"data row3 col2\" >Rp18.00</td>\n",
       "            </tr>\n",
       "            <tr>\n",
       "                                <td id=\"T_c15e87cb_2c9e_11ec_80b2_f0038c858274row4_col0\" class=\"data row4 col0\" >05/01/00</td>\n",
       "                        <td id=\"T_c15e87cb_2c9e_11ec_80b2_f0038c858274row4_col1\" class=\"data row4 col1\" >Rp 30000.00</td>\n",
       "                        <td id=\"T_c15e87cb_2c9e_11ec_80b2_f0038c858274row4_col2\" class=\"data row4 col2\" >Rp3.00</td>\n",
       "            </tr>\n",
       "    </tbody></table>"
      ],
      "text/plain": [
       "<pandas.io.formats.style.Styler at 0x1688f4bc4f0>"
      ]
     },
     "execution_count": 47,
     "metadata": {},
     "output_type": "execute_result"
    }
   ],
   "source": [
    "laporan.highlight_min('Omset',color='magenta')\n",
    "laporan.highlight_max('Omset',color='lightgreen')\n",
    "\n",
    "laporan.highlight_min('Operasional',color='lightblue')\n",
    "laporan.highlight_max('Operasional',color='grey')\n",
    "#highlight_max digunakan untuk menandai nilai maximum\n",
    "#highlight_min digunakan untuk menandai nilai minimum "
   ]
  },
  {
   "cell_type": "markdown",
   "metadata": {},
   "source": [
    "# 20. Menggabungkan dua Data Frame secara berdampingan"
   ]
  },
  {
   "cell_type": "code",
   "execution_count": 49,
   "metadata": {},
   "outputs": [
    {
     "name": "stdout",
     "output_type": "stream",
     "text": [
      "1.1.3\n",
      "1.1.3\n"
     ]
    }
   ],
   "source": [
    "#import modules\n",
    "import pandas as pd\n",
    "import numpy as np \n",
    "\n",
    "#check Version\n",
    "print(pd.__version__)\n",
    "print(pd.__version__)\n"
   ]
  },
  {
   "cell_type": "markdown",
   "metadata": {},
   "source": [
    "Data Frame Prep"
   ]
  },
  {
   "cell_type": "code",
   "execution_count": 48,
   "metadata": {},
   "outputs": [
    {
     "data": {
      "text/html": [
       "<div>\n",
       "<style scoped>\n",
       "    .dataframe tbody tr th:only-of-type {\n",
       "        vertical-align: middle;\n",
       "    }\n",
       "\n",
       "    .dataframe tbody tr th {\n",
       "        vertical-align: top;\n",
       "    }\n",
       "\n",
       "    .dataframe thead th {\n",
       "        text-align: right;\n",
       "    }\n",
       "</style>\n",
       "<table border=\"1\" class=\"dataframe\">\n",
       "  <thead>\n",
       "    <tr style=\"text-align: right;\">\n",
       "      <th></th>\n",
       "      <th>col1</th>\n",
       "      <th>col2</th>\n",
       "    </tr>\n",
       "  </thead>\n",
       "  <tbody>\n",
       "    <tr>\n",
       "      <th>0</th>\n",
       "      <td>1</td>\n",
       "      <td>10</td>\n",
       "    </tr>\n",
       "    <tr>\n",
       "      <th>1</th>\n",
       "      <td>2</td>\n",
       "      <td>20</td>\n",
       "    </tr>\n",
       "    <tr>\n",
       "      <th>2</th>\n",
       "      <td>3</td>\n",
       "      <td>30</td>\n",
       "    </tr>\n",
       "  </tbody>\n",
       "</table>\n",
       "</div>"
      ],
      "text/plain": [
       "   col1  col2\n",
       "0     1    10\n",
       "1     2    20\n",
       "2     3    30"
      ]
     },
     "execution_count": 48,
     "metadata": {},
     "output_type": "execute_result"
    }
   ],
   "source": [
    "d1={'col1':[1,2,3],\n",
    "   'col2':[10,20,30]}\n",
    "df1=pd.DataFrame(d1)\n",
    "df1"
   ]
  },
  {
   "cell_type": "code",
   "execution_count": 12,
   "metadata": {},
   "outputs": [
    {
     "data": {
      "text/html": [
       "<div>\n",
       "<style scoped>\n",
       "    .dataframe tbody tr th:only-of-type {\n",
       "        vertical-align: middle;\n",
       "    }\n",
       "\n",
       "    .dataframe tbody tr th {\n",
       "        vertical-align: top;\n",
       "    }\n",
       "\n",
       "    .dataframe thead th {\n",
       "        text-align: right;\n",
       "    }\n",
       "</style>\n",
       "<table border=\"1\" class=\"dataframe\">\n",
       "  <thead>\n",
       "    <tr style=\"text-align: right;\">\n",
       "      <th></th>\n",
       "      <th>col3</th>\n",
       "      <th>col4</th>\n",
       "    </tr>\n",
       "  </thead>\n",
       "  <tbody>\n",
       "    <tr>\n",
       "      <th>0</th>\n",
       "      <td>15</td>\n",
       "      <td>40</td>\n",
       "    </tr>\n",
       "    <tr>\n",
       "      <th>1</th>\n",
       "      <td>25</td>\n",
       "      <td>45</td>\n",
       "    </tr>\n",
       "    <tr>\n",
       "      <th>2</th>\n",
       "      <td>35</td>\n",
       "      <td>60</td>\n",
       "    </tr>\n",
       "  </tbody>\n",
       "</table>\n",
       "</div>"
      ],
      "text/plain": [
       "   col3  col4\n",
       "0    15    40\n",
       "1    25    45\n",
       "2    35    60"
      ]
     },
     "execution_count": 12,
     "metadata": {},
     "output_type": "execute_result"
    }
   ],
   "source": [
    "d2={'col3':[15,25,35],\n",
    "   'col4':[40,45,60]}\n",
    "df2=pd.DataFrame(d2)\n",
    "df2"
   ]
  },
  {
   "cell_type": "markdown",
   "metadata": {},
   "source": [
    "# Menggabungkan (merge) dua Data Frame secara berdampingan"
   ]
  },
  {
   "cell_type": "code",
   "execution_count": 23,
   "metadata": {},
   "outputs": [
    {
     "data": {
      "text/html": [
       "<div>\n",
       "<style scoped>\n",
       "    .dataframe tbody tr th:only-of-type {\n",
       "        vertical-align: middle;\n",
       "    }\n",
       "\n",
       "    .dataframe tbody tr th {\n",
       "        vertical-align: top;\n",
       "    }\n",
       "\n",
       "    .dataframe thead th {\n",
       "        text-align: right;\n",
       "    }\n",
       "</style>\n",
       "<table border=\"1\" class=\"dataframe\">\n",
       "  <thead>\n",
       "    <tr style=\"text-align: right;\">\n",
       "      <th></th>\n",
       "      <th>col1</th>\n",
       "      <th>col2</th>\n",
       "      <th>col3</th>\n",
       "      <th>col4</th>\n",
       "    </tr>\n",
       "  </thead>\n",
       "  <tbody>\n",
       "    <tr>\n",
       "      <th>0</th>\n",
       "      <td>1</td>\n",
       "      <td>10</td>\n",
       "      <td>15</td>\n",
       "      <td>40</td>\n",
       "    </tr>\n",
       "    <tr>\n",
       "      <th>1</th>\n",
       "      <td>2</td>\n",
       "      <td>20</td>\n",
       "      <td>25</td>\n",
       "      <td>45</td>\n",
       "    </tr>\n",
       "    <tr>\n",
       "      <th>2</th>\n",
       "      <td>3</td>\n",
       "      <td>30</td>\n",
       "      <td>35</td>\n",
       "      <td>60</td>\n",
       "    </tr>\n",
       "  </tbody>\n",
       "</table>\n",
       "</div>"
      ],
      "text/plain": [
       "   col1  col2  col3  col4\n",
       "0     1    10    15    40\n",
       "1     2    20    25    45\n",
       "2     3    30    35    60"
      ]
     },
     "execution_count": 23,
     "metadata": {},
     "output_type": "execute_result"
    }
   ],
   "source": [
    "df=pd.merge(df1,df2,left_index=True, right_index=True)\n",
    "df"
   ]
  },
  {
   "cell_type": "markdown",
   "metadata": {},
   "source": [
    "source: https://www.youtube.com/playlist?list=PL2O3HdJI4voGdD_9xhVCTBoDTDNHpajm5"
   ]
  }
 ],
 "metadata": {
  "kernelspec": {
   "display_name": "Python 3",
   "language": "python",
   "name": "python3"
  },
  "language_info": {
   "codemirror_mode": {
    "name": "ipython",
    "version": 3
   },
   "file_extension": ".py",
   "mimetype": "text/x-python",
   "name": "python",
   "nbconvert_exporter": "python",
   "pygments_lexer": "ipython3",
   "version": "3.8.5"
  }
 },
 "nbformat": 4,
 "nbformat_minor": 4
}
