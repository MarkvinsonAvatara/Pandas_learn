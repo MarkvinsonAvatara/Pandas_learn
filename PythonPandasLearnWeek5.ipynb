{
 "cells": [
  {
   "cell_type": "markdown",
   "metadata": {},
   "source": [
    "# Pandas Week 5"
   ]
  },
  {
   "cell_type": "markdown",
   "metadata": {},
   "source": [
    "# 17. Resampling pada  time series data"
   ]
  },
  {
   "cell_type": "code",
   "execution_count": 1,
   "metadata": {},
   "outputs": [
    {
     "name": "stdout",
     "output_type": "stream",
     "text": [
      "1.1.3\n",
      "1.1.3\n"
     ]
    }
   ],
   "source": [
    "#import modules\n",
    "import pandas as pd\n",
    "import numpy as np \n",
    "\n",
    "#check Version\n",
    "print(pd.__version__)\n",
    "print(pd.__version__)"
   ]
  },
  {
   "cell_type": "code",
   "execution_count": 4,
   "metadata": {},
   "outputs": [
    {
     "data": {
      "text/html": [
       "<div>\n",
       "<style scoped>\n",
       "    .dataframe tbody tr th:only-of-type {\n",
       "        vertical-align: middle;\n",
       "    }\n",
       "\n",
       "    .dataframe tbody tr th {\n",
       "        vertical-align: top;\n",
       "    }\n",
       "\n",
       "    .dataframe thead th {\n",
       "        text-align: right;\n",
       "    }\n",
       "</style>\n",
       "<table border=\"1\" class=\"dataframe\">\n",
       "  <thead>\n",
       "    <tr style=\"text-align: right;\">\n",
       "      <th></th>\n",
       "      <th>col1</th>\n",
       "      <th>col2</th>\n",
       "    </tr>\n",
       "  </thead>\n",
       "  <tbody>\n",
       "    <tr>\n",
       "      <th>2000-01-01 00:00:00</th>\n",
       "      <td>11</td>\n",
       "      <td>10</td>\n",
       "    </tr>\n",
       "    <tr>\n",
       "      <th>2000-01-01 01:00:00</th>\n",
       "      <td>8</td>\n",
       "      <td>1</td>\n",
       "    </tr>\n",
       "    <tr>\n",
       "      <th>2000-01-01 02:00:00</th>\n",
       "      <td>15</td>\n",
       "      <td>14</td>\n",
       "    </tr>\n",
       "    <tr>\n",
       "      <th>2000-01-01 03:00:00</th>\n",
       "      <td>15</td>\n",
       "      <td>15</td>\n",
       "    </tr>\n",
       "    <tr>\n",
       "      <th>2000-01-01 04:00:00</th>\n",
       "      <td>4</td>\n",
       "      <td>9</td>\n",
       "    </tr>\n",
       "    <tr>\n",
       "      <th>...</th>\n",
       "      <td>...</td>\n",
       "      <td>...</td>\n",
       "    </tr>\n",
       "    <tr>\n",
       "      <th>2000-12-30 19:00:00</th>\n",
       "      <td>5</td>\n",
       "      <td>11</td>\n",
       "    </tr>\n",
       "    <tr>\n",
       "      <th>2000-12-30 20:00:00</th>\n",
       "      <td>3</td>\n",
       "      <td>2</td>\n",
       "    </tr>\n",
       "    <tr>\n",
       "      <th>2000-12-30 21:00:00</th>\n",
       "      <td>18</td>\n",
       "      <td>14</td>\n",
       "    </tr>\n",
       "    <tr>\n",
       "      <th>2000-12-30 22:00:00</th>\n",
       "      <td>5</td>\n",
       "      <td>14</td>\n",
       "    </tr>\n",
       "    <tr>\n",
       "      <th>2000-12-30 23:00:00</th>\n",
       "      <td>5</td>\n",
       "      <td>11</td>\n",
       "    </tr>\n",
       "  </tbody>\n",
       "</table>\n",
       "<p>8760 rows × 2 columns</p>\n",
       "</div>"
      ],
      "text/plain": [
       "                     col1  col2\n",
       "2000-01-01 00:00:00    11    10\n",
       "2000-01-01 01:00:00     8     1\n",
       "2000-01-01 02:00:00    15    14\n",
       "2000-01-01 03:00:00    15    15\n",
       "2000-01-01 04:00:00     4     9\n",
       "...                   ...   ...\n",
       "2000-12-30 19:00:00     5    11\n",
       "2000-12-30 20:00:00     3     2\n",
       "2000-12-30 21:00:00    18    14\n",
       "2000-12-30 22:00:00     5    14\n",
       "2000-12-30 23:00:00     5    11\n",
       "\n",
       "[8760 rows x 2 columns]"
      ]
     },
     "execution_count": 4,
     "metadata": {},
     "output_type": "execute_result"
    }
   ],
   "source": [
    "#Data Frame Prep\n",
    "n_rows=365 *24\n",
    "n_cols=2\n",
    "cols=['col1','col2']\n",
    "\n",
    "df=pd.DataFrame(np.random.randint(1,20,size=(n_rows, n_cols)),\n",
    "               columns=cols)\n",
    "\n",
    "df.index=pd.util.testing.makeDateIndex(n_rows, freq='H')\n",
    "df"
   ]
  },
  {
   "cell_type": "markdown",
   "metadata": {},
   "source": [
    "# Resampling data dengan interval monthly atau Bulan"
   ]
  },
  {
   "cell_type": "code",
   "execution_count": 6,
   "metadata": {},
   "outputs": [
    {
     "data": {
      "text/html": [
       "<div>\n",
       "<style scoped>\n",
       "    .dataframe tbody tr th:only-of-type {\n",
       "        vertical-align: middle;\n",
       "    }\n",
       "\n",
       "    .dataframe tbody tr th {\n",
       "        vertical-align: top;\n",
       "    }\n",
       "\n",
       "    .dataframe thead th {\n",
       "        text-align: right;\n",
       "    }\n",
       "</style>\n",
       "<table border=\"1\" class=\"dataframe\">\n",
       "  <thead>\n",
       "    <tr style=\"text-align: right;\">\n",
       "      <th></th>\n",
       "      <th>col1</th>\n",
       "    </tr>\n",
       "  </thead>\n",
       "  <tbody>\n",
       "    <tr>\n",
       "      <th>2000-01-31</th>\n",
       "      <td>7425</td>\n",
       "    </tr>\n",
       "    <tr>\n",
       "      <th>2000-02-29</th>\n",
       "      <td>6930</td>\n",
       "    </tr>\n",
       "    <tr>\n",
       "      <th>2000-03-31</th>\n",
       "      <td>7465</td>\n",
       "    </tr>\n",
       "    <tr>\n",
       "      <th>2000-04-30</th>\n",
       "      <td>7339</td>\n",
       "    </tr>\n",
       "    <tr>\n",
       "      <th>2000-05-31</th>\n",
       "      <td>7445</td>\n",
       "    </tr>\n",
       "    <tr>\n",
       "      <th>2000-06-30</th>\n",
       "      <td>7010</td>\n",
       "    </tr>\n",
       "    <tr>\n",
       "      <th>2000-07-31</th>\n",
       "      <td>7649</td>\n",
       "    </tr>\n",
       "    <tr>\n",
       "      <th>2000-08-31</th>\n",
       "      <td>7447</td>\n",
       "    </tr>\n",
       "    <tr>\n",
       "      <th>2000-09-30</th>\n",
       "      <td>7195</td>\n",
       "    </tr>\n",
       "    <tr>\n",
       "      <th>2000-10-31</th>\n",
       "      <td>7312</td>\n",
       "    </tr>\n",
       "    <tr>\n",
       "      <th>2000-11-30</th>\n",
       "      <td>7252</td>\n",
       "    </tr>\n",
       "    <tr>\n",
       "      <th>2000-12-31</th>\n",
       "      <td>7207</td>\n",
       "    </tr>\n",
       "  </tbody>\n",
       "</table>\n",
       "</div>"
      ],
      "text/plain": [
       "            col1\n",
       "2000-01-31  7425\n",
       "2000-02-29  6930\n",
       "2000-03-31  7465\n",
       "2000-04-30  7339\n",
       "2000-05-31  7445\n",
       "2000-06-30  7010\n",
       "2000-07-31  7649\n",
       "2000-08-31  7447\n",
       "2000-09-30  7195\n",
       "2000-10-31  7312\n",
       "2000-11-30  7252\n",
       "2000-12-31  7207"
      ]
     },
     "execution_count": 6,
     "metadata": {},
     "output_type": "execute_result"
    }
   ],
   "source": [
    "df.resample('M')['col1'].sum().to_frame()\n",
    "#data yang kita akses sudah tidak bisa per individual data tetapi yang bisa kita akses adalah data agregasi"
   ]
  },
  {
   "cell_type": "markdown",
   "metadata": {},
   "source": [
    "# Resampling data dengan interval Daily atau hari"
   ]
  },
  {
   "cell_type": "code",
   "execution_count": 9,
   "metadata": {},
   "outputs": [
    {
     "data": {
      "text/html": [
       "<div>\n",
       "<style scoped>\n",
       "    .dataframe tbody tr th:only-of-type {\n",
       "        vertical-align: middle;\n",
       "    }\n",
       "\n",
       "    .dataframe tbody tr th {\n",
       "        vertical-align: top;\n",
       "    }\n",
       "\n",
       "    .dataframe thead th {\n",
       "        text-align: right;\n",
       "    }\n",
       "</style>\n",
       "<table border=\"1\" class=\"dataframe\">\n",
       "  <thead>\n",
       "    <tr style=\"text-align: right;\">\n",
       "      <th></th>\n",
       "      <th>col1</th>\n",
       "    </tr>\n",
       "  </thead>\n",
       "  <tbody>\n",
       "    <tr>\n",
       "      <th>2000-01-01</th>\n",
       "      <td>261</td>\n",
       "    </tr>\n",
       "    <tr>\n",
       "      <th>2000-01-02</th>\n",
       "      <td>285</td>\n",
       "    </tr>\n",
       "    <tr>\n",
       "      <th>2000-01-03</th>\n",
       "      <td>207</td>\n",
       "    </tr>\n",
       "    <tr>\n",
       "      <th>2000-01-04</th>\n",
       "      <td>243</td>\n",
       "    </tr>\n",
       "    <tr>\n",
       "      <th>2000-01-05</th>\n",
       "      <td>250</td>\n",
       "    </tr>\n",
       "    <tr>\n",
       "      <th>...</th>\n",
       "      <td>...</td>\n",
       "    </tr>\n",
       "    <tr>\n",
       "      <th>2000-12-26</th>\n",
       "      <td>214</td>\n",
       "    </tr>\n",
       "    <tr>\n",
       "      <th>2000-12-27</th>\n",
       "      <td>256</td>\n",
       "    </tr>\n",
       "    <tr>\n",
       "      <th>2000-12-28</th>\n",
       "      <td>186</td>\n",
       "    </tr>\n",
       "    <tr>\n",
       "      <th>2000-12-29</th>\n",
       "      <td>202</td>\n",
       "    </tr>\n",
       "    <tr>\n",
       "      <th>2000-12-30</th>\n",
       "      <td>233</td>\n",
       "    </tr>\n",
       "  </tbody>\n",
       "</table>\n",
       "<p>365 rows × 1 columns</p>\n",
       "</div>"
      ],
      "text/plain": [
       "            col1\n",
       "2000-01-01   261\n",
       "2000-01-02   285\n",
       "2000-01-03   207\n",
       "2000-01-04   243\n",
       "2000-01-05   250\n",
       "...          ...\n",
       "2000-12-26   214\n",
       "2000-12-27   256\n",
       "2000-12-28   186\n",
       "2000-12-29   202\n",
       "2000-12-30   233\n",
       "\n",
       "[365 rows x 1 columns]"
      ]
     },
     "execution_count": 9,
     "metadata": {},
     "output_type": "execute_result"
    }
   ],
   "source": [
    "df.resample('D')['col1'].sum().to_frame()"
   ]
  },
  {
   "cell_type": "markdown",
   "metadata": {},
   "source": [
    "# 18. Membentuk dummy Data Frame"
   ]
  },
  {
   "cell_type": "code",
   "execution_count": 10,
   "metadata": {},
   "outputs": [
    {
     "name": "stdout",
     "output_type": "stream",
     "text": [
      "1.1.3\n",
      "1.1.3\n"
     ]
    }
   ],
   "source": [
    "#import modules\n",
    "import pandas as pd\n",
    "import numpy as np \n",
    "\n",
    "#check Version\n",
    "print(pd.__version__)\n",
    "print(pd.__version__)"
   ]
  },
  {
   "cell_type": "markdown",
   "metadata": {},
   "source": [
    "# Membentuk Data Frame dari Dictionary"
   ]
  },
  {
   "cell_type": "code",
   "execution_count": 13,
   "metadata": {},
   "outputs": [
    {
     "data": {
      "text/html": [
       "<div>\n",
       "<style scoped>\n",
       "    .dataframe tbody tr th:only-of-type {\n",
       "        vertical-align: middle;\n",
       "    }\n",
       "\n",
       "    .dataframe tbody tr th {\n",
       "        vertical-align: top;\n",
       "    }\n",
       "\n",
       "    .dataframe thead th {\n",
       "        text-align: right;\n",
       "    }\n",
       "</style>\n",
       "<table border=\"1\" class=\"dataframe\">\n",
       "  <thead>\n",
       "    <tr style=\"text-align: right;\">\n",
       "      <th></th>\n",
       "      <th>col1</th>\n",
       "      <th>col2</th>\n",
       "    </tr>\n",
       "  </thead>\n",
       "  <tbody>\n",
       "    <tr>\n",
       "      <th>0</th>\n",
       "      <td>1</td>\n",
       "      <td>5</td>\n",
       "    </tr>\n",
       "    <tr>\n",
       "      <th>1</th>\n",
       "      <td>2</td>\n",
       "      <td>6</td>\n",
       "    </tr>\n",
       "    <tr>\n",
       "      <th>2</th>\n",
       "      <td>3</td>\n",
       "      <td>7</td>\n",
       "    </tr>\n",
       "    <tr>\n",
       "      <th>3</th>\n",
       "      <td>4</td>\n",
       "      <td>8</td>\n",
       "    </tr>\n",
       "  </tbody>\n",
       "</table>\n",
       "</div>"
      ],
      "text/plain": [
       "   col1  col2\n",
       "0     1     5\n",
       "1     2     6\n",
       "2     3     7\n",
       "3     4     8"
      ]
     },
     "execution_count": 13,
     "metadata": {},
     "output_type": "execute_result"
    }
   ],
   "source": [
    "pd.DataFrame({'col1':[1,2,3,4],\n",
    "             'col2':[5,6,7,8]})"
   ]
  },
  {
   "cell_type": "markdown",
   "metadata": {},
   "source": [
    "# Membentuk Data Frame dari Numpy Array"
   ]
  },
  {
   "cell_type": "code",
   "execution_count": 14,
   "metadata": {},
   "outputs": [
    {
     "data": {
      "text/plain": [
       "array([[ 7, 14],\n",
       "       [19,  3],\n",
       "       [ 5, 12],\n",
       "       [ 1,  8],\n",
       "       [15, 18]])"
      ]
     },
     "execution_count": 14,
     "metadata": {},
     "output_type": "execute_result"
    }
   ],
   "source": [
    "n_rows=5\n",
    "n_cols=2\n",
    "\n",
    "arr=np.random.randint(1,20,size=(n_rows, n_cols))\n",
    "arr"
   ]
  },
  {
   "cell_type": "code",
   "execution_count": 16,
   "metadata": {},
   "outputs": [
    {
     "data": {
      "text/html": [
       "<div>\n",
       "<style scoped>\n",
       "    .dataframe tbody tr th:only-of-type {\n",
       "        vertical-align: middle;\n",
       "    }\n",
       "\n",
       "    .dataframe tbody tr th {\n",
       "        vertical-align: top;\n",
       "    }\n",
       "\n",
       "    .dataframe thead th {\n",
       "        text-align: right;\n",
       "    }\n",
       "</style>\n",
       "<table border=\"1\" class=\"dataframe\">\n",
       "  <thead>\n",
       "    <tr style=\"text-align: right;\">\n",
       "      <th></th>\n",
       "      <th>A</th>\n",
       "      <th>B</th>\n",
       "    </tr>\n",
       "  </thead>\n",
       "  <tbody>\n",
       "    <tr>\n",
       "      <th>0</th>\n",
       "      <td>7</td>\n",
       "      <td>14</td>\n",
       "    </tr>\n",
       "    <tr>\n",
       "      <th>1</th>\n",
       "      <td>19</td>\n",
       "      <td>3</td>\n",
       "    </tr>\n",
       "    <tr>\n",
       "      <th>2</th>\n",
       "      <td>5</td>\n",
       "      <td>12</td>\n",
       "    </tr>\n",
       "    <tr>\n",
       "      <th>3</th>\n",
       "      <td>1</td>\n",
       "      <td>8</td>\n",
       "    </tr>\n",
       "    <tr>\n",
       "      <th>4</th>\n",
       "      <td>15</td>\n",
       "      <td>18</td>\n",
       "    </tr>\n",
       "  </tbody>\n",
       "</table>\n",
       "</div>"
      ],
      "text/plain": [
       "    A   B\n",
       "0   7  14\n",
       "1  19   3\n",
       "2   5  12\n",
       "3   1   8\n",
       "4  15  18"
      ]
     },
     "execution_count": 16,
     "metadata": {},
     "output_type": "execute_result"
    }
   ],
   "source": [
    "pd.DataFrame(arr,columns=tuple('AB'))"
   ]
  },
  {
   "cell_type": "markdown",
   "metadata": {},
   "source": [
    "# Membentuk Data Frame dengan memanfaatkan pandas.util.testing"
   ]
  },
  {
   "cell_type": "code",
   "execution_count": 17,
   "metadata": {},
   "outputs": [
    {
     "data": {
      "text/html": [
       "<div>\n",
       "<style scoped>\n",
       "    .dataframe tbody tr th:only-of-type {\n",
       "        vertical-align: middle;\n",
       "    }\n",
       "\n",
       "    .dataframe tbody tr th {\n",
       "        vertical-align: top;\n",
       "    }\n",
       "\n",
       "    .dataframe thead th {\n",
       "        text-align: right;\n",
       "    }\n",
       "</style>\n",
       "<table border=\"1\" class=\"dataframe\">\n",
       "  <thead>\n",
       "    <tr style=\"text-align: right;\">\n",
       "      <th></th>\n",
       "      <th>A</th>\n",
       "      <th>B</th>\n",
       "      <th>C</th>\n",
       "      <th>D</th>\n",
       "    </tr>\n",
       "  </thead>\n",
       "  <tbody>\n",
       "    <tr>\n",
       "      <th>cwNOtKunia</th>\n",
       "      <td>1.242595</td>\n",
       "      <td>0.657152</td>\n",
       "      <td>-0.913856</td>\n",
       "      <td>-0.885913</td>\n",
       "    </tr>\n",
       "    <tr>\n",
       "      <th>UQcfXFoVIa</th>\n",
       "      <td>1.340902</td>\n",
       "      <td>-0.487666</td>\n",
       "      <td>0.823083</td>\n",
       "      <td>-0.363256</td>\n",
       "    </tr>\n",
       "    <tr>\n",
       "      <th>tkj2OSBV5x</th>\n",
       "      <td>0.214393</td>\n",
       "      <td>0.794964</td>\n",
       "      <td>0.359394</td>\n",
       "      <td>0.062031</td>\n",
       "    </tr>\n",
       "    <tr>\n",
       "      <th>NBSv42qoXd</th>\n",
       "      <td>-1.871698</td>\n",
       "      <td>-1.580772</td>\n",
       "      <td>-0.057140</td>\n",
       "      <td>-0.223642</td>\n",
       "    </tr>\n",
       "    <tr>\n",
       "      <th>MXk9VkqlMP</th>\n",
       "      <td>-3.015480</td>\n",
       "      <td>0.484488</td>\n",
       "      <td>-0.195957</td>\n",
       "      <td>-0.442721</td>\n",
       "    </tr>\n",
       "  </tbody>\n",
       "</table>\n",
       "</div>"
      ],
      "text/plain": [
       "                   A         B         C         D\n",
       "cwNOtKunia  1.242595  0.657152 -0.913856 -0.885913\n",
       "UQcfXFoVIa  1.340902 -0.487666  0.823083 -0.363256\n",
       "tkj2OSBV5x  0.214393  0.794964  0.359394  0.062031\n",
       "NBSv42qoXd -1.871698 -1.580772 -0.057140 -0.223642\n",
       "MXk9VkqlMP -3.015480  0.484488 -0.195957 -0.442721"
      ]
     },
     "execution_count": 17,
     "metadata": {},
     "output_type": "execute_result"
    }
   ],
   "source": [
    "pd.util.testing.makeDataFrame().head()\n",
    "#Membuat sebuah Dummy Data Frame sederhana"
   ]
  },
  {
   "cell_type": "code",
   "execution_count": 18,
   "metadata": {},
   "outputs": [
    {
     "data": {
      "text/html": [
       "<div>\n",
       "<style scoped>\n",
       "    .dataframe tbody tr th:only-of-type {\n",
       "        vertical-align: middle;\n",
       "    }\n",
       "\n",
       "    .dataframe tbody tr th {\n",
       "        vertical-align: top;\n",
       "    }\n",
       "\n",
       "    .dataframe thead th {\n",
       "        text-align: right;\n",
       "    }\n",
       "</style>\n",
       "<table border=\"1\" class=\"dataframe\">\n",
       "  <thead>\n",
       "    <tr style=\"text-align: right;\">\n",
       "      <th></th>\n",
       "      <th>A</th>\n",
       "      <th>B</th>\n",
       "      <th>C</th>\n",
       "      <th>D</th>\n",
       "    </tr>\n",
       "  </thead>\n",
       "  <tbody>\n",
       "    <tr>\n",
       "      <th>0</th>\n",
       "      <td>0.0</td>\n",
       "      <td>0.0</td>\n",
       "      <td>foo1</td>\n",
       "      <td>2009-01-01</td>\n",
       "    </tr>\n",
       "    <tr>\n",
       "      <th>1</th>\n",
       "      <td>1.0</td>\n",
       "      <td>1.0</td>\n",
       "      <td>foo2</td>\n",
       "      <td>2009-01-02</td>\n",
       "    </tr>\n",
       "    <tr>\n",
       "      <th>2</th>\n",
       "      <td>2.0</td>\n",
       "      <td>0.0</td>\n",
       "      <td>foo3</td>\n",
       "      <td>2009-01-05</td>\n",
       "    </tr>\n",
       "    <tr>\n",
       "      <th>3</th>\n",
       "      <td>3.0</td>\n",
       "      <td>1.0</td>\n",
       "      <td>foo4</td>\n",
       "      <td>2009-01-06</td>\n",
       "    </tr>\n",
       "    <tr>\n",
       "      <th>4</th>\n",
       "      <td>4.0</td>\n",
       "      <td>0.0</td>\n",
       "      <td>foo5</td>\n",
       "      <td>2009-01-07</td>\n",
       "    </tr>\n",
       "  </tbody>\n",
       "</table>\n",
       "</div>"
      ],
      "text/plain": [
       "     A    B     C          D\n",
       "0  0.0  0.0  foo1 2009-01-01\n",
       "1  1.0  1.0  foo2 2009-01-02\n",
       "2  2.0  0.0  foo3 2009-01-05\n",
       "3  3.0  1.0  foo4 2009-01-06\n",
       "4  4.0  0.0  foo5 2009-01-07"
      ]
     },
     "execution_count": 18,
     "metadata": {},
     "output_type": "execute_result"
    }
   ],
   "source": [
    "pd.util.testing.makeMixedDataFrame().head()\n",
    "#Membuat sebuah Dummy Data Frame dengan tipe data campuran "
   ]
  },
  {
   "cell_type": "code",
   "execution_count": 19,
   "metadata": {},
   "outputs": [
    {
     "data": {
      "text/html": [
       "<div>\n",
       "<style scoped>\n",
       "    .dataframe tbody tr th:only-of-type {\n",
       "        vertical-align: middle;\n",
       "    }\n",
       "\n",
       "    .dataframe tbody tr th {\n",
       "        vertical-align: top;\n",
       "    }\n",
       "\n",
       "    .dataframe thead th {\n",
       "        text-align: right;\n",
       "    }\n",
       "</style>\n",
       "<table border=\"1\" class=\"dataframe\">\n",
       "  <thead>\n",
       "    <tr style=\"text-align: right;\">\n",
       "      <th></th>\n",
       "      <th>A</th>\n",
       "      <th>B</th>\n",
       "      <th>C</th>\n",
       "      <th>D</th>\n",
       "    </tr>\n",
       "  </thead>\n",
       "  <tbody>\n",
       "    <tr>\n",
       "      <th>2000-01-03</th>\n",
       "      <td>-0.152359</td>\n",
       "      <td>-0.368807</td>\n",
       "      <td>0.267544</td>\n",
       "      <td>-1.435628</td>\n",
       "    </tr>\n",
       "    <tr>\n",
       "      <th>2000-01-04</th>\n",
       "      <td>-0.435073</td>\n",
       "      <td>1.345318</td>\n",
       "      <td>0.912286</td>\n",
       "      <td>-0.426983</td>\n",
       "    </tr>\n",
       "    <tr>\n",
       "      <th>2000-01-05</th>\n",
       "      <td>0.851333</td>\n",
       "      <td>0.484376</td>\n",
       "      <td>1.849454</td>\n",
       "      <td>-0.267558</td>\n",
       "    </tr>\n",
       "    <tr>\n",
       "      <th>2000-01-06</th>\n",
       "      <td>-1.238784</td>\n",
       "      <td>-1.661026</td>\n",
       "      <td>1.842490</td>\n",
       "      <td>0.430548</td>\n",
       "    </tr>\n",
       "    <tr>\n",
       "      <th>2000-01-07</th>\n",
       "      <td>-0.287869</td>\n",
       "      <td>-0.074090</td>\n",
       "      <td>0.454337</td>\n",
       "      <td>0.228416</td>\n",
       "    </tr>\n",
       "  </tbody>\n",
       "</table>\n",
       "</div>"
      ],
      "text/plain": [
       "                   A         B         C         D\n",
       "2000-01-03 -0.152359 -0.368807  0.267544 -1.435628\n",
       "2000-01-04 -0.435073  1.345318  0.912286 -0.426983\n",
       "2000-01-05  0.851333  0.484376  1.849454 -0.267558\n",
       "2000-01-06 -1.238784 -1.661026  1.842490  0.430548\n",
       "2000-01-07 -0.287869 -0.074090  0.454337  0.228416"
      ]
     },
     "execution_count": 19,
     "metadata": {},
     "output_type": "execute_result"
    }
   ],
   "source": [
    "pd.util.testing.makeTimeDataFrame().head()\n",
    "#Membentuk DataFrame yang berisi tipe data waktu"
   ]
  },
  {
   "cell_type": "code",
   "execution_count": 22,
   "metadata": {},
   "outputs": [
    {
     "data": {
      "text/html": [
       "<div>\n",
       "<style scoped>\n",
       "    .dataframe tbody tr th:only-of-type {\n",
       "        vertical-align: middle;\n",
       "    }\n",
       "\n",
       "    .dataframe tbody tr th {\n",
       "        vertical-align: top;\n",
       "    }\n",
       "\n",
       "    .dataframe thead th {\n",
       "        text-align: right;\n",
       "    }\n",
       "</style>\n",
       "<table border=\"1\" class=\"dataframe\">\n",
       "  <thead>\n",
       "    <tr style=\"text-align: right;\">\n",
       "      <th></th>\n",
       "      <th>A</th>\n",
       "      <th>B</th>\n",
       "      <th>C</th>\n",
       "      <th>D</th>\n",
       "    </tr>\n",
       "  </thead>\n",
       "  <tbody>\n",
       "    <tr>\n",
       "      <th>K7gWrYFNzj</th>\n",
       "      <td>-2.359893</td>\n",
       "      <td>-2.076845</td>\n",
       "      <td>-0.298077</td>\n",
       "      <td>-0.385404</td>\n",
       "    </tr>\n",
       "    <tr>\n",
       "      <th>XlB3OFazpi</th>\n",
       "      <td>0.468995</td>\n",
       "      <td>-2.997602</td>\n",
       "      <td>-0.352891</td>\n",
       "      <td>NaN</td>\n",
       "    </tr>\n",
       "    <tr>\n",
       "      <th>LNEmLOfiSz</th>\n",
       "      <td>NaN</td>\n",
       "      <td>-0.163106</td>\n",
       "      <td>NaN</td>\n",
       "      <td>-0.432600</td>\n",
       "    </tr>\n",
       "    <tr>\n",
       "      <th>RIVxTbVPmG</th>\n",
       "      <td>1.266110</td>\n",
       "      <td>NaN</td>\n",
       "      <td>1.040971</td>\n",
       "      <td>-0.910362</td>\n",
       "    </tr>\n",
       "    <tr>\n",
       "      <th>y8Va5mdfIg</th>\n",
       "      <td>1.148618</td>\n",
       "      <td>0.638519</td>\n",
       "      <td>-0.467482</td>\n",
       "      <td>NaN</td>\n",
       "    </tr>\n",
       "  </tbody>\n",
       "</table>\n",
       "</div>"
      ],
      "text/plain": [
       "                   A         B         C         D\n",
       "K7gWrYFNzj -2.359893 -2.076845 -0.298077 -0.385404\n",
       "XlB3OFazpi  0.468995 -2.997602 -0.352891       NaN\n",
       "LNEmLOfiSz       NaN -0.163106       NaN -0.432600\n",
       "RIVxTbVPmG  1.266110       NaN  1.040971 -0.910362\n",
       "y8Va5mdfIg  1.148618  0.638519 -0.467482       NaN"
      ]
     },
     "execution_count": 22,
     "metadata": {},
     "output_type": "execute_result"
    }
   ],
   "source": [
    "pd.util.testing.makeMissingDataframe().head()\n",
    "#Membentuk DataFrame dummy yang memiliki beberapa missing value atu NaN yang ditempatkan secara acak"
   ]
  },
  {
   "cell_type": "markdown",
   "metadata": {},
   "source": [
    "# 19. Formatting tampilan Data Frame\n"
   ]
  },
  {
   "cell_type": "code",
   "execution_count": 1,
   "metadata": {},
   "outputs": [
    {
     "name": "stdout",
     "output_type": "stream",
     "text": [
      "1.1.3\n",
      "1.1.3\n"
     ]
    }
   ],
   "source": [
    "#import modules\n",
    "import pandas as pd\n",
    "import numpy as np \n",
    "\n",
    "#check Version\n",
    "print(pd.__version__)\n",
    "print(pd.__version__)\n"
   ]
  },
  {
   "cell_type": "markdown",
   "metadata": {},
   "source": [
    "Data Frame Prep"
   ]
  },
  {
   "cell_type": "code",
   "execution_count": 2,
   "metadata": {},
   "outputs": [
    {
     "data": {
      "text/html": [
       "<div>\n",
       "<style scoped>\n",
       "    .dataframe tbody tr th:only-of-type {\n",
       "        vertical-align: middle;\n",
       "    }\n",
       "\n",
       "    .dataframe tbody tr th {\n",
       "        vertical-align: top;\n",
       "    }\n",
       "\n",
       "    .dataframe thead th {\n",
       "        text-align: right;\n",
       "    }\n",
       "</style>\n",
       "<table border=\"1\" class=\"dataframe\">\n",
       "  <thead>\n",
       "    <tr style=\"text-align: right;\">\n",
       "      <th></th>\n",
       "      <th>omset</th>\n",
       "      <th>operasional</th>\n",
       "    </tr>\n",
       "  </thead>\n",
       "  <tbody>\n",
       "    <tr>\n",
       "      <th>0</th>\n",
       "      <td>11</td>\n",
       "      <td>13</td>\n",
       "    </tr>\n",
       "    <tr>\n",
       "      <th>1</th>\n",
       "      <td>2</td>\n",
       "      <td>4</td>\n",
       "    </tr>\n",
       "    <tr>\n",
       "      <th>2</th>\n",
       "      <td>14</td>\n",
       "      <td>6</td>\n",
       "    </tr>\n",
       "    <tr>\n",
       "      <th>3</th>\n",
       "      <td>9</td>\n",
       "      <td>16</td>\n",
       "    </tr>\n",
       "    <tr>\n",
       "      <th>4</th>\n",
       "      <td>17</td>\n",
       "      <td>17</td>\n",
       "    </tr>\n",
       "  </tbody>\n",
       "</table>\n",
       "</div>"
      ],
      "text/plain": [
       "   omset  operasional\n",
       "0     11           13\n",
       "1      2            4\n",
       "2     14            6\n",
       "3      9           16\n",
       "4     17           17"
      ]
     },
     "execution_count": 2,
     "metadata": {},
     "output_type": "execute_result"
    }
   ],
   "source": [
    "n_rows=5\n",
    "n_cols=2\n",
    "cols=['omset','operasional']\n",
    "\n",
    "df=pd.DataFrame(np.random.randint(1,20,size=(n_rows, n_cols)),\n",
    "               columns=cols)\n",
    "\n",
    "\n",
    "df"
   ]
  },
  {
   "cell_type": "code",
   "execution_count": 3,
   "metadata": {},
   "outputs": [
    {
     "data": {
      "text/html": [
       "<div>\n",
       "<style scoped>\n",
       "    .dataframe tbody tr th:only-of-type {\n",
       "        vertical-align: middle;\n",
       "    }\n",
       "\n",
       "    .dataframe tbody tr th {\n",
       "        vertical-align: top;\n",
       "    }\n",
       "\n",
       "    .dataframe thead th {\n",
       "        text-align: right;\n",
       "    }\n",
       "</style>\n",
       "<table border=\"1\" class=\"dataframe\">\n",
       "  <thead>\n",
       "    <tr style=\"text-align: right;\">\n",
       "      <th></th>\n",
       "      <th>omset</th>\n",
       "      <th>operasional</th>\n",
       "    </tr>\n",
       "  </thead>\n",
       "  <tbody>\n",
       "    <tr>\n",
       "      <th>0</th>\n",
       "      <td>1100000</td>\n",
       "      <td>130000</td>\n",
       "    </tr>\n",
       "    <tr>\n",
       "      <th>1</th>\n",
       "      <td>200000</td>\n",
       "      <td>40000</td>\n",
       "    </tr>\n",
       "    <tr>\n",
       "      <th>2</th>\n",
       "      <td>1400000</td>\n",
       "      <td>60000</td>\n",
       "    </tr>\n",
       "    <tr>\n",
       "      <th>3</th>\n",
       "      <td>900000</td>\n",
       "      <td>160000</td>\n",
       "    </tr>\n",
       "    <tr>\n",
       "      <th>4</th>\n",
       "      <td>1700000</td>\n",
       "      <td>170000</td>\n",
       "    </tr>\n",
       "  </tbody>\n",
       "</table>\n",
       "</div>"
      ],
      "text/plain": [
       "     omset  operasional\n",
       "0  1100000       130000\n",
       "1   200000        40000\n",
       "2  1400000        60000\n",
       "3   900000       160000\n",
       "4  1700000       170000"
      ]
     },
     "execution_count": 3,
     "metadata": {},
     "output_type": "execute_result"
    }
   ],
   "source": [
    "df['omset']=df['omset']*100_000\n",
    "df['operasional']=df['operasional']*10_000\n",
    "df"
   ]
  },
  {
   "cell_type": "code",
   "execution_count": 4,
   "metadata": {},
   "outputs": [
    {
     "name": "stderr",
     "output_type": "stream",
     "text": [
      "C:\\Users\\Markvinson\\anaconda3\\lib\\site-packages\\pandas\\util\\__init__.py:12: FutureWarning: pandas.util.testing is deprecated. Use the functions in the public API at pandas.testing instead.\n",
      "  import pandas.util.testing\n"
     ]
    },
    {
     "data": {
      "text/html": [
       "<div>\n",
       "<style scoped>\n",
       "    .dataframe tbody tr th:only-of-type {\n",
       "        vertical-align: middle;\n",
       "    }\n",
       "\n",
       "    .dataframe tbody tr th {\n",
       "        vertical-align: top;\n",
       "    }\n",
       "\n",
       "    .dataframe thead th {\n",
       "        text-align: right;\n",
       "    }\n",
       "</style>\n",
       "<table border=\"1\" class=\"dataframe\">\n",
       "  <thead>\n",
       "    <tr style=\"text-align: right;\">\n",
       "      <th></th>\n",
       "      <th>tanggal</th>\n",
       "      <th>omset</th>\n",
       "      <th>operasional</th>\n",
       "    </tr>\n",
       "  </thead>\n",
       "  <tbody>\n",
       "    <tr>\n",
       "      <th>0</th>\n",
       "      <td>2000-01-01</td>\n",
       "      <td>1100000</td>\n",
       "      <td>130000</td>\n",
       "    </tr>\n",
       "    <tr>\n",
       "      <th>1</th>\n",
       "      <td>2000-01-02</td>\n",
       "      <td>200000</td>\n",
       "      <td>40000</td>\n",
       "    </tr>\n",
       "    <tr>\n",
       "      <th>2</th>\n",
       "      <td>2000-01-03</td>\n",
       "      <td>1400000</td>\n",
       "      <td>60000</td>\n",
       "    </tr>\n",
       "    <tr>\n",
       "      <th>3</th>\n",
       "      <td>2000-01-04</td>\n",
       "      <td>900000</td>\n",
       "      <td>160000</td>\n",
       "    </tr>\n",
       "    <tr>\n",
       "      <th>4</th>\n",
       "      <td>2000-01-05</td>\n",
       "      <td>1700000</td>\n",
       "      <td>170000</td>\n",
       "    </tr>\n",
       "  </tbody>\n",
       "</table>\n",
       "</div>"
      ],
      "text/plain": [
       "     tanggal    omset  operasional\n",
       "0 2000-01-01  1100000       130000\n",
       "1 2000-01-02   200000        40000\n",
       "2 2000-01-03  1400000        60000\n",
       "3 2000-01-04   900000       160000\n",
       "4 2000-01-05  1700000       170000"
      ]
     },
     "execution_count": 4,
     "metadata": {},
     "output_type": "execute_result"
    }
   ],
   "source": [
    "df.index = pd.util.testing.makeDateIndex(n_rows,freq='D')\n",
    "df = df.reset_index()\n",
    "df = df.rename(columns={'index':'tanggal'})\n",
    "df"
   ]
  },
  {
   "cell_type": "markdown",
   "metadata": {},
   "source": [
    "# Melakukan Formatting Tampilan Data Frame"
   ]
  },
  {
   "cell_type": "code",
   "execution_count": 5,
   "metadata": {},
   "outputs": [
    {
     "data": {
      "text/html": [
       "<style  type=\"text/css\" >\n",
       "</style><table id=\"T_92226f49_2bed_11ec_9ebb_f0038c858274\" ><thead>    <tr>        <th class=\"blank level0\" ></th>        <th class=\"col_heading level0 col0\" >tanggal</th>        <th class=\"col_heading level0 col1\" >omset</th>        <th class=\"col_heading level0 col2\" >operasional</th>    </tr></thead><tbody>\n",
       "                <tr>\n",
       "                        <th id=\"T_92226f49_2bed_11ec_9ebb_f0038c858274level0_row0\" class=\"row_heading level0 row0\" >0</th>\n",
       "                        <td id=\"T_92226f49_2bed_11ec_9ebb_f0038c858274row0_col0\" class=\"data row0 col0\" >01/01/00</td>\n",
       "                        <td id=\"T_92226f49_2bed_11ec_9ebb_f0038c858274row0_col1\" class=\"data row0 col1\" >Rp 1100000.00</td>\n",
       "                        <td id=\"T_92226f49_2bed_11ec_9ebb_f0038c858274row0_col2\" class=\"data row0 col2\" >Rp 130000.00</td>\n",
       "            </tr>\n",
       "            <tr>\n",
       "                        <th id=\"T_92226f49_2bed_11ec_9ebb_f0038c858274level0_row1\" class=\"row_heading level0 row1\" >1</th>\n",
       "                        <td id=\"T_92226f49_2bed_11ec_9ebb_f0038c858274row1_col0\" class=\"data row1 col0\" >02/01/00</td>\n",
       "                        <td id=\"T_92226f49_2bed_11ec_9ebb_f0038c858274row1_col1\" class=\"data row1 col1\" >Rp 200000.00</td>\n",
       "                        <td id=\"T_92226f49_2bed_11ec_9ebb_f0038c858274row1_col2\" class=\"data row1 col2\" >Rp 40000.00</td>\n",
       "            </tr>\n",
       "            <tr>\n",
       "                        <th id=\"T_92226f49_2bed_11ec_9ebb_f0038c858274level0_row2\" class=\"row_heading level0 row2\" >2</th>\n",
       "                        <td id=\"T_92226f49_2bed_11ec_9ebb_f0038c858274row2_col0\" class=\"data row2 col0\" >03/01/00</td>\n",
       "                        <td id=\"T_92226f49_2bed_11ec_9ebb_f0038c858274row2_col1\" class=\"data row2 col1\" >Rp 1400000.00</td>\n",
       "                        <td id=\"T_92226f49_2bed_11ec_9ebb_f0038c858274row2_col2\" class=\"data row2 col2\" >Rp 60000.00</td>\n",
       "            </tr>\n",
       "            <tr>\n",
       "                        <th id=\"T_92226f49_2bed_11ec_9ebb_f0038c858274level0_row3\" class=\"row_heading level0 row3\" >3</th>\n",
       "                        <td id=\"T_92226f49_2bed_11ec_9ebb_f0038c858274row3_col0\" class=\"data row3 col0\" >04/01/00</td>\n",
       "                        <td id=\"T_92226f49_2bed_11ec_9ebb_f0038c858274row3_col1\" class=\"data row3 col1\" >Rp 900000.00</td>\n",
       "                        <td id=\"T_92226f49_2bed_11ec_9ebb_f0038c858274row3_col2\" class=\"data row3 col2\" >Rp 160000.00</td>\n",
       "            </tr>\n",
       "            <tr>\n",
       "                        <th id=\"T_92226f49_2bed_11ec_9ebb_f0038c858274level0_row4\" class=\"row_heading level0 row4\" >4</th>\n",
       "                        <td id=\"T_92226f49_2bed_11ec_9ebb_f0038c858274row4_col0\" class=\"data row4 col0\" >05/01/00</td>\n",
       "                        <td id=\"T_92226f49_2bed_11ec_9ebb_f0038c858274row4_col1\" class=\"data row4 col1\" >Rp 1700000.00</td>\n",
       "                        <td id=\"T_92226f49_2bed_11ec_9ebb_f0038c858274row4_col2\" class=\"data row4 col2\" >Rp 170000.00</td>\n",
       "            </tr>\n",
       "    </tbody></table>"
      ],
      "text/plain": [
       "<pandas.io.formats.style.Styler at 0x214ec9d6970>"
      ]
     },
     "execution_count": 5,
     "metadata": {},
     "output_type": "execute_result"
    }
   ],
   "source": [
    "formatku = {'tanggal':'{:%d/%m/%y}',\n",
    "           'operasional':'Rp {:.2f}',\n",
    "           'omset':'Rp {:.2f}'}\n",
    "laporan = df.style.format(formatku)\n",
    "laporan"
   ]
  },
  {
   "cell_type": "code",
   "execution_count": 6,
   "metadata": {},
   "outputs": [
    {
     "data": {
      "text/plain": [
       "pandas.io.formats.style.Styler"
      ]
     },
     "execution_count": 6,
     "metadata": {},
     "output_type": "execute_result"
    }
   ],
   "source": [
    "type(laporan)"
   ]
  },
  {
   "cell_type": "code",
   "execution_count": 7,
   "metadata": {},
   "outputs": [
    {
     "data": {
      "text/html": [
       "<style  type=\"text/css\" >\n",
       "</style><table id=\"T_9237838b_2bed_11ec_89fe_f0038c858274\" ><thead>    <tr>        <th class=\"col_heading level0 col0\" >tanggal</th>        <th class=\"col_heading level0 col1\" >omset</th>        <th class=\"col_heading level0 col2\" >operasional</th>    </tr></thead><tbody>\n",
       "                <tr>\n",
       "                                <td id=\"T_9237838b_2bed_11ec_89fe_f0038c858274row0_col0\" class=\"data row0 col0\" >01/01/00</td>\n",
       "                        <td id=\"T_9237838b_2bed_11ec_89fe_f0038c858274row0_col1\" class=\"data row0 col1\" >Rp 1100000.00</td>\n",
       "                        <td id=\"T_9237838b_2bed_11ec_89fe_f0038c858274row0_col2\" class=\"data row0 col2\" >Rp 130000.00</td>\n",
       "            </tr>\n",
       "            <tr>\n",
       "                                <td id=\"T_9237838b_2bed_11ec_89fe_f0038c858274row1_col0\" class=\"data row1 col0\" >02/01/00</td>\n",
       "                        <td id=\"T_9237838b_2bed_11ec_89fe_f0038c858274row1_col1\" class=\"data row1 col1\" >Rp 200000.00</td>\n",
       "                        <td id=\"T_9237838b_2bed_11ec_89fe_f0038c858274row1_col2\" class=\"data row1 col2\" >Rp 40000.00</td>\n",
       "            </tr>\n",
       "            <tr>\n",
       "                                <td id=\"T_9237838b_2bed_11ec_89fe_f0038c858274row2_col0\" class=\"data row2 col0\" >03/01/00</td>\n",
       "                        <td id=\"T_9237838b_2bed_11ec_89fe_f0038c858274row2_col1\" class=\"data row2 col1\" >Rp 1400000.00</td>\n",
       "                        <td id=\"T_9237838b_2bed_11ec_89fe_f0038c858274row2_col2\" class=\"data row2 col2\" >Rp 60000.00</td>\n",
       "            </tr>\n",
       "            <tr>\n",
       "                                <td id=\"T_9237838b_2bed_11ec_89fe_f0038c858274row3_col0\" class=\"data row3 col0\" >04/01/00</td>\n",
       "                        <td id=\"T_9237838b_2bed_11ec_89fe_f0038c858274row3_col1\" class=\"data row3 col1\" >Rp 900000.00</td>\n",
       "                        <td id=\"T_9237838b_2bed_11ec_89fe_f0038c858274row3_col2\" class=\"data row3 col2\" >Rp 160000.00</td>\n",
       "            </tr>\n",
       "            <tr>\n",
       "                                <td id=\"T_9237838b_2bed_11ec_89fe_f0038c858274row4_col0\" class=\"data row4 col0\" >05/01/00</td>\n",
       "                        <td id=\"T_9237838b_2bed_11ec_89fe_f0038c858274row4_col1\" class=\"data row4 col1\" >Rp 1700000.00</td>\n",
       "                        <td id=\"T_9237838b_2bed_11ec_89fe_f0038c858274row4_col2\" class=\"data row4 col2\" >Rp 170000.00</td>\n",
       "            </tr>\n",
       "    </tbody></table>"
      ],
      "text/plain": [
       "<pandas.io.formats.style.Styler at 0x214ec9d6970>"
      ]
     },
     "execution_count": 7,
     "metadata": {},
     "output_type": "execute_result"
    }
   ],
   "source": [
    "laporan.hide_index()"
   ]
  },
  {
   "cell_type": "code",
   "execution_count": 8,
   "metadata": {},
   "outputs": [
    {
     "data": {
      "text/html": [
       "<style  type=\"text/css\" >\n",
       "</style><table id=\"T_924bb5f0_2bed_11ec_9ea2_f0038c858274\" ><caption>Data Omset dan Operasional</caption><thead>    <tr>        <th class=\"col_heading level0 col0\" >tanggal</th>        <th class=\"col_heading level0 col1\" >omset</th>        <th class=\"col_heading level0 col2\" >operasional</th>    </tr></thead><tbody>\n",
       "                <tr>\n",
       "                                <td id=\"T_924bb5f0_2bed_11ec_9ea2_f0038c858274row0_col0\" class=\"data row0 col0\" >01/01/00</td>\n",
       "                        <td id=\"T_924bb5f0_2bed_11ec_9ea2_f0038c858274row0_col1\" class=\"data row0 col1\" >Rp 1100000.00</td>\n",
       "                        <td id=\"T_924bb5f0_2bed_11ec_9ea2_f0038c858274row0_col2\" class=\"data row0 col2\" >Rp 130000.00</td>\n",
       "            </tr>\n",
       "            <tr>\n",
       "                                <td id=\"T_924bb5f0_2bed_11ec_9ea2_f0038c858274row1_col0\" class=\"data row1 col0\" >02/01/00</td>\n",
       "                        <td id=\"T_924bb5f0_2bed_11ec_9ea2_f0038c858274row1_col1\" class=\"data row1 col1\" >Rp 200000.00</td>\n",
       "                        <td id=\"T_924bb5f0_2bed_11ec_9ea2_f0038c858274row1_col2\" class=\"data row1 col2\" >Rp 40000.00</td>\n",
       "            </tr>\n",
       "            <tr>\n",
       "                                <td id=\"T_924bb5f0_2bed_11ec_9ea2_f0038c858274row2_col0\" class=\"data row2 col0\" >03/01/00</td>\n",
       "                        <td id=\"T_924bb5f0_2bed_11ec_9ea2_f0038c858274row2_col1\" class=\"data row2 col1\" >Rp 1400000.00</td>\n",
       "                        <td id=\"T_924bb5f0_2bed_11ec_9ea2_f0038c858274row2_col2\" class=\"data row2 col2\" >Rp 60000.00</td>\n",
       "            </tr>\n",
       "            <tr>\n",
       "                                <td id=\"T_924bb5f0_2bed_11ec_9ea2_f0038c858274row3_col0\" class=\"data row3 col0\" >04/01/00</td>\n",
       "                        <td id=\"T_924bb5f0_2bed_11ec_9ea2_f0038c858274row3_col1\" class=\"data row3 col1\" >Rp 900000.00</td>\n",
       "                        <td id=\"T_924bb5f0_2bed_11ec_9ea2_f0038c858274row3_col2\" class=\"data row3 col2\" >Rp 160000.00</td>\n",
       "            </tr>\n",
       "            <tr>\n",
       "                                <td id=\"T_924bb5f0_2bed_11ec_9ea2_f0038c858274row4_col0\" class=\"data row4 col0\" >05/01/00</td>\n",
       "                        <td id=\"T_924bb5f0_2bed_11ec_9ea2_f0038c858274row4_col1\" class=\"data row4 col1\" >Rp 1700000.00</td>\n",
       "                        <td id=\"T_924bb5f0_2bed_11ec_9ea2_f0038c858274row4_col2\" class=\"data row4 col2\" >Rp 170000.00</td>\n",
       "            </tr>\n",
       "    </tbody></table>"
      ],
      "text/plain": [
       "<pandas.io.formats.style.Styler at 0x214ec9d6970>"
      ]
     },
     "execution_count": 8,
     "metadata": {},
     "output_type": "execute_result"
    }
   ],
   "source": [
    "laporan.set_caption('Data Omset dan Operasional')"
   ]
  },
  {
   "cell_type": "code",
   "execution_count": 9,
   "metadata": {},
   "outputs": [
    {
     "data": {
      "text/html": [
       "<style  type=\"text/css\" >\n",
       "#T_9270b5cd_2bed_11ec_87da_f0038c858274row1_col1{\n",
       "            background-color:  pink;\n",
       "        }#T_9270b5cd_2bed_11ec_87da_f0038c858274row1_col2{\n",
       "            background-color:  lightblue;\n",
       "            background-color:  grey;\n",
       "        }#T_9270b5cd_2bed_11ec_87da_f0038c858274row4_col1{\n",
       "            background-color:  lightgreen;\n",
       "        }</style><table id=\"T_9270b5cd_2bed_11ec_87da_f0038c858274\" ><caption>Data Omset dan Operasional</caption><thead>    <tr>        <th class=\"col_heading level0 col0\" >tanggal</th>        <th class=\"col_heading level0 col1\" >omset</th>        <th class=\"col_heading level0 col2\" >operasional</th>    </tr></thead><tbody>\n",
       "                <tr>\n",
       "                                <td id=\"T_9270b5cd_2bed_11ec_87da_f0038c858274row0_col0\" class=\"data row0 col0\" >01/01/00</td>\n",
       "                        <td id=\"T_9270b5cd_2bed_11ec_87da_f0038c858274row0_col1\" class=\"data row0 col1\" >Rp 1100000.00</td>\n",
       "                        <td id=\"T_9270b5cd_2bed_11ec_87da_f0038c858274row0_col2\" class=\"data row0 col2\" >Rp 130000.00</td>\n",
       "            </tr>\n",
       "            <tr>\n",
       "                                <td id=\"T_9270b5cd_2bed_11ec_87da_f0038c858274row1_col0\" class=\"data row1 col0\" >02/01/00</td>\n",
       "                        <td id=\"T_9270b5cd_2bed_11ec_87da_f0038c858274row1_col1\" class=\"data row1 col1\" >Rp 200000.00</td>\n",
       "                        <td id=\"T_9270b5cd_2bed_11ec_87da_f0038c858274row1_col2\" class=\"data row1 col2\" >Rp 40000.00</td>\n",
       "            </tr>\n",
       "            <tr>\n",
       "                                <td id=\"T_9270b5cd_2bed_11ec_87da_f0038c858274row2_col0\" class=\"data row2 col0\" >03/01/00</td>\n",
       "                        <td id=\"T_9270b5cd_2bed_11ec_87da_f0038c858274row2_col1\" class=\"data row2 col1\" >Rp 1400000.00</td>\n",
       "                        <td id=\"T_9270b5cd_2bed_11ec_87da_f0038c858274row2_col2\" class=\"data row2 col2\" >Rp 60000.00</td>\n",
       "            </tr>\n",
       "            <tr>\n",
       "                                <td id=\"T_9270b5cd_2bed_11ec_87da_f0038c858274row3_col0\" class=\"data row3 col0\" >04/01/00</td>\n",
       "                        <td id=\"T_9270b5cd_2bed_11ec_87da_f0038c858274row3_col1\" class=\"data row3 col1\" >Rp 900000.00</td>\n",
       "                        <td id=\"T_9270b5cd_2bed_11ec_87da_f0038c858274row3_col2\" class=\"data row3 col2\" >Rp 160000.00</td>\n",
       "            </tr>\n",
       "            <tr>\n",
       "                                <td id=\"T_9270b5cd_2bed_11ec_87da_f0038c858274row4_col0\" class=\"data row4 col0\" >05/01/00</td>\n",
       "                        <td id=\"T_9270b5cd_2bed_11ec_87da_f0038c858274row4_col1\" class=\"data row4 col1\" >Rp 1700000.00</td>\n",
       "                        <td id=\"T_9270b5cd_2bed_11ec_87da_f0038c858274row4_col2\" class=\"data row4 col2\" >Rp 170000.00</td>\n",
       "            </tr>\n",
       "    </tbody></table>"
      ],
      "text/plain": [
       "<pandas.io.formats.style.Styler at 0x214ec9d6970>"
      ]
     },
     "execution_count": 9,
     "metadata": {},
     "output_type": "execute_result"
    }
   ],
   "source": [
    "laporan.highlight_min('omset',color='pink')\n",
    "laporan.highlight_max('omset',color='lightgreen')\n",
    "\n",
    "laporan.highlight_min('operasional',color='lightblue')\n",
    "laporan.highlight_min('operasional',color='grey')"
   ]
  },
  {
   "cell_type": "markdown",
   "metadata": {},
   "source": [
    "# 20. Menggabungkan dua Data Frame secara berdampingan"
   ]
  },
  {
   "cell_type": "code",
   "execution_count": 10,
   "metadata": {},
   "outputs": [
    {
     "name": "stdout",
     "output_type": "stream",
     "text": [
      "1.1.3\n",
      "1.1.3\n"
     ]
    }
   ],
   "source": [
    "#import modules\n",
    "import pandas as pd\n",
    "import numpy as np \n",
    "\n",
    "#check Version\n",
    "print(pd.__version__)\n",
    "print(pd.__version__)\n"
   ]
  },
  {
   "cell_type": "markdown",
   "metadata": {},
   "source": [
    "Data Frame Prep"
   ]
  },
  {
   "cell_type": "markdown",
   "metadata": {},
   "source": [
    "d1={'col1':[1,2,3],\n",
    "   'col2':[10,20,30]}\n",
    "df1=pd.DataFrame(d1)\n",
    "df1"
   ]
  },
  {
   "cell_type": "code",
   "execution_count": 12,
   "metadata": {},
   "outputs": [
    {
     "data": {
      "text/html": [
       "<div>\n",
       "<style scoped>\n",
       "    .dataframe tbody tr th:only-of-type {\n",
       "        vertical-align: middle;\n",
       "    }\n",
       "\n",
       "    .dataframe tbody tr th {\n",
       "        vertical-align: top;\n",
       "    }\n",
       "\n",
       "    .dataframe thead th {\n",
       "        text-align: right;\n",
       "    }\n",
       "</style>\n",
       "<table border=\"1\" class=\"dataframe\">\n",
       "  <thead>\n",
       "    <tr style=\"text-align: right;\">\n",
       "      <th></th>\n",
       "      <th>col3</th>\n",
       "      <th>col4</th>\n",
       "    </tr>\n",
       "  </thead>\n",
       "  <tbody>\n",
       "    <tr>\n",
       "      <th>0</th>\n",
       "      <td>15</td>\n",
       "      <td>40</td>\n",
       "    </tr>\n",
       "    <tr>\n",
       "      <th>1</th>\n",
       "      <td>25</td>\n",
       "      <td>45</td>\n",
       "    </tr>\n",
       "    <tr>\n",
       "      <th>2</th>\n",
       "      <td>35</td>\n",
       "      <td>60</td>\n",
       "    </tr>\n",
       "  </tbody>\n",
       "</table>\n",
       "</div>"
      ],
      "text/plain": [
       "   col3  col4\n",
       "0    15    40\n",
       "1    25    45\n",
       "2    35    60"
      ]
     },
     "execution_count": 12,
     "metadata": {},
     "output_type": "execute_result"
    }
   ],
   "source": [
    "d2={'col3':[15,25,35],\n",
    "   'col4':[40,45,60]}\n",
    "df2=pd.DataFrame(d2)\n",
    "df2"
   ]
  },
  {
   "cell_type": "markdown",
   "metadata": {},
   "source": [
    "# Menggabungkan (merge) dua Data Frame secara berdampingan"
   ]
  },
  {
   "cell_type": "code",
   "execution_count": 23,
   "metadata": {},
   "outputs": [
    {
     "data": {
      "text/html": [
       "<div>\n",
       "<style scoped>\n",
       "    .dataframe tbody tr th:only-of-type {\n",
       "        vertical-align: middle;\n",
       "    }\n",
       "\n",
       "    .dataframe tbody tr th {\n",
       "        vertical-align: top;\n",
       "    }\n",
       "\n",
       "    .dataframe thead th {\n",
       "        text-align: right;\n",
       "    }\n",
       "</style>\n",
       "<table border=\"1\" class=\"dataframe\">\n",
       "  <thead>\n",
       "    <tr style=\"text-align: right;\">\n",
       "      <th></th>\n",
       "      <th>col1</th>\n",
       "      <th>col2</th>\n",
       "      <th>col3</th>\n",
       "      <th>col4</th>\n",
       "    </tr>\n",
       "  </thead>\n",
       "  <tbody>\n",
       "    <tr>\n",
       "      <th>0</th>\n",
       "      <td>1</td>\n",
       "      <td>10</td>\n",
       "      <td>15</td>\n",
       "      <td>40</td>\n",
       "    </tr>\n",
       "    <tr>\n",
       "      <th>1</th>\n",
       "      <td>2</td>\n",
       "      <td>20</td>\n",
       "      <td>25</td>\n",
       "      <td>45</td>\n",
       "    </tr>\n",
       "    <tr>\n",
       "      <th>2</th>\n",
       "      <td>3</td>\n",
       "      <td>30</td>\n",
       "      <td>35</td>\n",
       "      <td>60</td>\n",
       "    </tr>\n",
       "  </tbody>\n",
       "</table>\n",
       "</div>"
      ],
      "text/plain": [
       "   col1  col2  col3  col4\n",
       "0     1    10    15    40\n",
       "1     2    20    25    45\n",
       "2     3    30    35    60"
      ]
     },
     "execution_count": 23,
     "metadata": {},
     "output_type": "execute_result"
    }
   ],
   "source": [
    "df=pd.merge(df1,df2,left_index=True, right_index=True)\n",
    "df"
   ]
  },
  {
   "cell_type": "markdown",
   "metadata": {},
   "source": [
    "source: https://www.youtube.com/playlist?list=PL2O3HdJI4voGdD_9xhVCTBoDTDNHpajm5"
   ]
  }
 ],
 "metadata": {
  "kernelspec": {
   "display_name": "Python 3",
   "language": "python",
   "name": "python3"
  },
  "language_info": {
   "codemirror_mode": {
    "name": "ipython",
    "version": 3
   },
   "file_extension": ".py",
   "mimetype": "text/x-python",
   "name": "python",
   "nbconvert_exporter": "python",
   "pygments_lexer": "ipython3",
   "version": "3.8.5"
  }
 },
 "nbformat": 4,
 "nbformat_minor": 4
}
